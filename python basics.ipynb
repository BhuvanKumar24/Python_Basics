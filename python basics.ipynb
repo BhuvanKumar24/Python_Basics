{
 "cells": [
  {
   "cell_type": "markdown",
   "id": "85fbaab4",
   "metadata": {},
   "source": [
    "# datatypes"
   ]
  },
  {
   "cell_type": "raw",
   "id": "e83cf6fc",
   "metadata": {},
   "source": [
    "------basic datatypes-------\n",
    "1.string = \"\",'',''''''\n",
    "2.int = 1\n",
    "3.boolean\n",
    "4.float = 1.1\n",
    "\n",
    "----------adv datatypes----------\n",
    "list[]\n",
    "tuples()\n",
    "dict.{keys: values}\n",
    "set={}"
   ]
  },
  {
   "cell_type": "markdown",
   "id": "92049900",
   "metadata": {},
   "source": [
    "# TYPE CASTING"
   ]
  },
  {
   "cell_type": "code",
   "execution_count": null,
   "id": "955b0866",
   "metadata": {},
   "outputs": [],
   "source": [
    "a = 10\n",
    "print(\"a value is:\",a)\n",
    "print(type(a))\n",
    "print(\"------------\")\n",
    "d = complex(a)\n",
    "print(d)\n",
    "print (type(d))"
   ]
  },
  {
   "cell_type": "code",
   "execution_count": null,
   "id": "dcd8676f",
   "metadata": {},
   "outputs": [],
   "source": [
    "a = 10\n",
    "print(\"a value is:\",a)\n",
    "print(type(a))\n",
    "print(\"------------\")\n",
    "d = float(a)\n",
    "print(d)\n",
    "print (type(d))"
   ]
  },
  {
   "cell_type": "code",
   "execution_count": null,
   "id": "3fa549dd",
   "metadata": {},
   "outputs": [],
   "source": [
    "a = 10\n",
    "print(\"a value is:\",a)\n",
    "print(type(a))\n",
    "print(\"------------\")\n",
    "d = str(a)\n",
    "print(d)\n",
    "print (type(d))"
   ]
  },
  {
   "cell_type": "code",
   "execution_count": null,
   "id": "60a344d0",
   "metadata": {},
   "outputs": [],
   "source": [
    "a = 10\n",
    "print(\"a value is:\",a)\n",
    "print(type(a))\n",
    "print(\"------------\")\n",
    "d = bool(a)\n",
    "print(d)\n",
    "print (type(d))"
   ]
  },
  {
   "cell_type": "code",
   "execution_count": null,
   "id": "aa953b08",
   "metadata": {},
   "outputs": [],
   "source": [
    "a = (2+0j)\n",
    "print(\"a value is:\",a)\n",
    "print(type(a))\n",
    "print(\"------------\")\n",
    "d = int(a)\n",
    "print(d)\n",
    "print (type(d))"
   ]
  },
  {
   "cell_type": "code",
   "execution_count": 12,
   "id": "94efc209",
   "metadata": {},
   "outputs": [
    {
     "name": "stdout",
     "output_type": "stream",
     "text": [
      "a value is: (2+0j)\n",
      "<class 'complex'>\n",
      "------------\n",
      "(2+0j)\n",
      "<class 'str'>\n"
     ]
    }
   ],
   "source": [
    "a = (2+0j)\n",
    "print(\"a value is:\",a)\n",
    "print(type(a))\n",
    "print(\"------------\")\n",
    "d = str(a)\n",
    "print(d)\n",
    "print (type(d))"
   ]
  },
  {
   "cell_type": "code",
   "execution_count": null,
   "id": "adb83e50",
   "metadata": {},
   "outputs": [],
   "source": [
    "a = (2+0j)\n",
    "print(\"a value is:\",a)\n",
    "print(type(a))\n",
    "print(\"------------\")\n",
    "d = float(a)\n",
    "print(d)\n",
    "print (type(d))"
   ]
  },
  {
   "cell_type": "code",
   "execution_count": null,
   "id": "52dba8f3",
   "metadata": {},
   "outputs": [],
   "source": [
    "a = (2+0j)\n",
    "print(\"a value is:\",a)\n",
    "print(type(a))\n",
    "print(\"------------\")\n",
    "d = bool(a)\n",
    "print(d)\n",
    "print (type(d))"
   ]
  },
  {
   "cell_type": "code",
   "execution_count": null,
   "id": "5860664d",
   "metadata": {},
   "outputs": [],
   "source": [
    "num =10\n",
    "print(\"before converting\")\n",
    "print(type(num))\n",
    "print(\"--------------\")\n",
    "string = str(num)\n",
    "print(\"after converting\")\n",
    "print(type(num))"
   ]
  },
  {
   "cell_type": "markdown",
   "id": "76b93ffd",
   "metadata": {},
   "source": [
    "# TYPE OF OPERATORS"
   ]
  },
  {
   "cell_type": "code",
   "execution_count": null,
   "id": "2613671b",
   "metadata": {},
   "outputs": [],
   "source": [
    "1.ARITHEMETIC\n",
    "2.COMPARISON\n",
    "3.ASSIGNMENT\n",
    "4.LOGICAL\n",
    "5.BITWISE BIN\n",
    "6.MEMBERSHIP[IN,NOT]\n",
    "7.IDENTITY "
   ]
  },
  {
   "cell_type": "markdown",
   "id": "c1dccbb6",
   "metadata": {},
   "source": [
    "# Arithmetic"
   ]
  },
  {
   "cell_type": "raw",
   "id": "da016668",
   "metadata": {},
   "source": [
    "+\n",
    "-\n",
    "*\n",
    "/\n",
    "**\n",
    "%\n",
    "//"
   ]
  },
  {
   "cell_type": "code",
   "execution_count": null,
   "id": "551d89d2",
   "metadata": {},
   "outputs": [],
   "source": [
    "v1 = 20\n",
    "v2 = 10\n",
    "\n",
    "add = v1+v2\n",
    "print(\"add=\",add)\n",
    "sub = v1-v2\n",
    "print(\"sub=\",sub)\n",
    "div = v1/v2\n",
    "print(\"div=\",div)\n",
    "mul = v1*v2\n",
    "print(\"mul=\",mul)\n",
    "expo = v1**v2\n",
    "print(\"expo=\",expo)\n",
    "mod = v1%v2\n",
    "print(\"mod=\",mod)\n",
    "floordiv = v1//v2\n",
    "print(\"floordiv=\",floordiv)"
   ]
  },
  {
   "cell_type": "markdown",
   "id": "724616b1",
   "metadata": {},
   "source": [
    "# COMPARISON OPERATORS"
   ]
  },
  {
   "cell_type": "raw",
   "id": "7b7ba9df",
   "metadata": {},
   "source": [
    "==\n",
    "!=\n",
    ">\n",
    "<\n",
    ">=\n",
    "<="
   ]
  },
  {
   "cell_type": "code",
   "execution_count": null,
   "id": "6f2f460e",
   "metadata": {},
   "outputs": [],
   "source": [
    "a = 8\n",
    "b = 2\n",
    "\n",
    "print(a>b)\n",
    "print(a<b)\n",
    "print(a!=b)\n",
    "print(a==b)\n",
    "print(a>=b)\n",
    "print(a<=b)"
   ]
  },
  {
   "cell_type": "markdown",
   "id": "8eeca930",
   "metadata": {},
   "source": [
    "# ASSIGNMENT"
   ]
  },
  {
   "cell_type": "raw",
   "id": "2c0f5525",
   "metadata": {},
   "source": [
    "=\n",
    "+=\n",
    "-=\n",
    "*=\n",
    "/=\n",
    "//=\n",
    "**=\n",
    "%="
   ]
  },
  {
   "cell_type": "code",
   "execution_count": 1,
   "id": "6b7d5006",
   "metadata": {},
   "outputs": [
    {
     "name": "stdout",
     "output_type": "stream",
     "text": [
      "12\n"
     ]
    }
   ],
   "source": [
    "a = 10\n",
    "b = 2\n",
    "b += a\n",
    "print(b)"
   ]
  },
  {
   "cell_type": "code",
   "execution_count": null,
   "id": "2b8bb41b",
   "metadata": {},
   "outputs": [],
   "source": [
    "a = 10\n",
    "b = 2\n",
    "b -= a\n",
    "print(b)"
   ]
  },
  {
   "cell_type": "code",
   "execution_count": null,
   "id": "f9f20955",
   "metadata": {},
   "outputs": [],
   "source": [
    "a = 10\n",
    "b = 2\n",
    "b *= a\n",
    "print(b)"
   ]
  },
  {
   "cell_type": "code",
   "execution_count": null,
   "id": "6a404432",
   "metadata": {},
   "outputs": [],
   "source": [
    "a = 10\n",
    "b = 2\n",
    "b /= a\n",
    "print(b)"
   ]
  },
  {
   "cell_type": "code",
   "execution_count": null,
   "id": "4df635ee",
   "metadata": {},
   "outputs": [],
   "source": [
    "a = 10\n",
    "b = 2\n",
    "b //= a\n",
    "print(b)"
   ]
  },
  {
   "cell_type": "code",
   "execution_count": null,
   "id": "68500651",
   "metadata": {},
   "outputs": [],
   "source": [
    "a = 10\n",
    "b = 2\n",
    "b **= a\n",
    "print(b)"
   ]
  },
  {
   "cell_type": "code",
   "execution_count": 2,
   "id": "dc3b51e8",
   "metadata": {},
   "outputs": [
    {
     "name": "stdout",
     "output_type": "stream",
     "text": [
      "0.2\n"
     ]
    }
   ],
   "source": [
    "a = 10\n",
    "b = 2\n",
    "b /= a\n",
    "print(b)"
   ]
  },
  {
   "cell_type": "markdown",
   "id": "a7160c04",
   "metadata": {},
   "source": [
    "# BITWISE OPERATORS"
   ]
  },
  {
   "cell_type": "code",
   "execution_count": null,
   "id": "81a814dc",
   "metadata": {},
   "outputs": [],
   "source": [
    "a = (60)\n",
    "b =(13)\n",
    "print(\"a:\",bin(a))\n",
    "c = a + b\n",
    "print(c)\n",
    "print(bin(c))"
   ]
  },
  {
   "cell_type": "code",
   "execution_count": null,
   "id": "3b55eeb3",
   "metadata": {},
   "outputs": [],
   "source": [
    "#MEMBERSHIP OPERATOR\n",
    "\n",
    "\n",
    "a = 10\n",
    "b = 20\n",
    "lists = [1,2,3,4,5]\n",
    "\n",
    "\n",
    "if (a in lists)\n",
    "print(\"line 1 - a is available in the \")"
   ]
  },
  {
   "cell_type": "markdown",
   "id": "71c93a02",
   "metadata": {},
   "source": [
    "# logical operator"
   ]
  },
  {
   "cell_type": "raw",
   "id": "3f130469",
   "metadata": {},
   "source": [
    "and\n",
    "or\n",
    "not"
   ]
  },
  {
   "cell_type": "code",
   "execution_count": null,
   "id": "5e9739fa",
   "metadata": {},
   "outputs": [],
   "source": [
    "num1 = 10\n",
    "\n",
    "print(num1 > 10 and num1 <=12)\n"
   ]
  },
  {
   "cell_type": "code",
   "execution_count": null,
   "id": "091f7427",
   "metadata": {},
   "outputs": [],
   "source": [
    "num2 = 10\n",
    "print(num2 > 10 or num2 <=10)"
   ]
  },
  {
   "cell_type": "code",
   "execution_count": null,
   "id": "4e8c6d60",
   "metadata": {},
   "outputs": [],
   "source": [
    "#and operator\n",
    "\n",
    "x = 5\n",
    "print(x > 3 and x < 10)"
   ]
  },
  {
   "cell_type": "code",
   "execution_count": null,
   "id": "9bfd6c91",
   "metadata": {},
   "outputs": [],
   "source": [
    "#or operator\n",
    "\n",
    "x = 5\n",
    "print(x > 5 1 or x < 10)"
   ]
  },
  {
   "cell_type": "code",
   "execution_count": null,
   "id": "31c0ba97",
   "metadata": {},
   "outputs": [],
   "source": [
    "#or operator\n",
    "\n",
    "x = 5\n",
    "\n",
    "print(not(x > 3 or x > 10))"
   ]
  },
  {
   "cell_type": "markdown",
   "id": "d92ce2de",
   "metadata": {},
   "source": [
    "# BITWISE BIN"
   ]
  },
  {
   "cell_type": "code",
   "execution_count": null,
   "id": "69cc1e4f",
   "metadata": {},
   "outputs": [],
   "source": [
    "#bitwise operators\n",
    "\n",
    "a = 10\n",
    "b = 4\n",
    "\n",
    "#print bitwise AND operation\n",
    "print(\"a & b\",a & b)\n",
    "\n",
    "#print bitwise OR operation\n",
    "print(\"a | b\",a | b)\n",
    "\n",
    "#print bitwise NOT operation\n",
    "print(\"~a\",~a)\n",
    "\n",
    "#print bitwise XOR operation\n",
    "print(\"a^b\",a ^ b)\n"
   ]
  },
  {
   "cell_type": "markdown",
   "id": "21d5630f",
   "metadata": {},
   "source": [
    "# ADVANCE DATATYPES"
   ]
  },
  {
   "cell_type": "code",
   "execution_count": null,
   "id": "9c54d902",
   "metadata": {},
   "outputs": [],
   "source": [
    "var1 = 'hello world'\n",
    "#var2 = 'python programming'\n",
    "print(var1)\n",
    "print(var1[0])\n",
    "\n",
    "\n",
    "print(\"rnter a updated string\",var1[0:6]+'python')\n",
    "\n",
    "print(var1[::])\n",
    "print(var1[0:])\n",
    "print(var1[:9])"
   ]
  },
  {
   "cell_type": "markdown",
   "id": "6e8932f4",
   "metadata": {},
   "source": [
    "# list"
   ]
  },
  {
   "cell_type": "code",
   "execution_count": null,
   "id": "d3b88165",
   "metadata": {},
   "outputs": [],
   "source": [
    "lis = ['apple','bat','124',80,90.4]\n",
    "thinylist = [123,'john']\n",
    "print(lis)\n",
    "print(lis[0])\n",
    "print(lis[-4])\n",
    "print(lis+thinylist)\n",
    "\n",
    "print(thinylist * 2)"
   ]
  },
  {
   "cell_type": "markdown",
   "id": "00e09d55",
   "metadata": {},
   "source": [
    "# TUPLE"
   ]
  },
  {
   "cell_type": "code",
   "execution_count": null,
   "id": "1d8d9346",
   "metadata": {},
   "outputs": [],
   "source": [
    "tup = ('abcd',786,2.3,'john',70.2)\n",
    "thinytuple =(123,'john')\n",
    "print(tup)\n",
    "print(tup[-1])\n",
    "print(tup[4])\n",
    "print(tup[0:4])\n",
    "print(thinytuple * 2)"
   ]
  },
  {
   "cell_type": "markdown",
   "id": "5382eeb2",
   "metadata": {},
   "source": [
    "# DIC"
   ]
  },
  {
   "cell_type": "code",
   "execution_count": null,
   "id": "a90af514",
   "metadata": {},
   "outputs": [],
   "source": [
    "dic = {}\n",
    "dic['one'] = \"this is one\"\n",
    "dic [2] = \"this is two\"\n",
    "\n",
    "print(\"-----------\")\n",
    "print(dic)\n",
    "print(\"-----------\")\n",
    "print(dic['one'])\n",
    "print(\"-----------\")\n",
    "print(dic[2])\n",
    "print(\"-----------\")\n",
    "print(dic.keys())\n",
    "print(\"-----------\")\n",
    "print(dic.values())"
   ]
  },
  {
   "cell_type": "markdown",
   "id": "b7633e54",
   "metadata": {},
   "source": [
    "# IF ELSE"
   ]
  },
  {
   "cell_type": "code",
   "execution_count": null,
   "id": "81289796",
   "metadata": {},
   "outputs": [],
   "source": [
    "a = 10\n",
    "b = 20\n",
    "\n",
    "if(a>b):\n",
    "    print(\"A is greater than B\")\n",
    "print(\"if condition is completed\")"
   ]
  },
  {
   "cell_type": "code",
   "execution_count": null,
   "id": "373359e5",
   "metadata": {},
   "outputs": [],
   "source": [
    "King \n"
   ]
  },
  {
   "cell_type": "code",
   "execution_count": null,
   "id": "90af21ef",
   "metadata": {},
   "outputs": [],
   "source": [
    "a = 10\n",
    "b = 20\n",
    "\n",
    "if(a>b):\n",
    "    print(\"A is greater than B\")\n",
    "else:\n",
    "    print(\"A is less than B\")\n",
    "print(\"if....elseee....condition...is completed\")"
   ]
  },
  {
   "cell_type": "code",
   "execution_count": null,
   "id": "4a3fb278",
   "metadata": {},
   "outputs": [],
   "source": [
    "a = 10\n",
    "b = 20\n",
    "c = 15\n",
    "\n",
    "if(a>b):\n",
    "    print(\"a is greater than b\")\n",
    "elif(b<c):\n",
    "    print(\"b is less than c\")\n",
    "elif(a<c):\n",
    "    print(\"a is greater than c\")\n",
    "elif(c<a):\n",
    "    print(\"a is greater than c\")\n",
    "else:\n",
    "    print(\"b is greater than c\")\n",
    "print(\"if...elif..else..condition completed\")\n",
    "\n",
    "    "
   ]
  },
  {
   "cell_type": "code",
   "execution_count": null,
   "id": "bf219060",
   "metadata": {},
   "outputs": [],
   "source": [
    "var = 10\n",
    "\n",
    "if (var>11):\n",
    "    print(\"var num\")\n",
    "    print(var)\n",
    "print(\"python\")"
   ]
  },
  {
   "cell_type": "code",
   "execution_count": null,
   "id": "94a80dad",
   "metadata": {},
   "outputs": [],
   "source": [
    "num = 11\n",
    "\n",
    "if num>=11:\n",
    "    print(\"number\")\n",
    "    print(num)\n",
    "\n",
    "#false\n",
    "print(\"python|\")"
   ]
  },
  {
   "cell_type": "markdown",
   "id": "f611db2a",
   "metadata": {},
   "source": [
    "# calculator"
   ]
  },
  {
   "cell_type": "code",
   "execution_count": null,
   "id": "eaf16128",
   "metadata": {},
   "outputs": [],
   "source": [
    "num1 = int(input(\"enter the first no.\"))\n",
    "num2 = int(input(\"enter the second no.\"))\n",
    "\n",
    "add = num1+num2\n",
    "print(\"sum of two no.=\",add)"
   ]
  },
  {
   "cell_type": "code",
   "execution_count": null,
   "id": "e8b7b89c",
   "metadata": {},
   "outputs": [],
   "source": [
    "num1 = int(input(\"enter the first no.\"))\n",
    "num2 = int(input(\"enter the second no.\"))\n",
    "choice=int(input(\"enter your choice=\"))\n",
    "\n",
    "if(choice==1):\n",
    "    add=num1+num2\n",
    "    print(\"sum of two no.=\",add)\n",
    "    \n",
    "elif(choice==2):\n",
    "    sub=num1-num2\n",
    "    print(\"sub of two no.=\",sub)\n",
    "    \n",
    "elif(choice==3):\n",
    "    div=num1/num2\n",
    "    print(\"div of two no.=\",div)\n",
    "    \n",
    "elif(choice==4):\n",
    "    mul=num1*num2\n",
    "    print(\"mul of two no.=\",mul)\n",
    "    \n",
    "elif(choice==5):\n",
    "    mod=num1%num2\n",
    "    print(\"mod of two no.=\",mod)\n",
    "    \n",
    "elif(choice==6):\n",
    "    exp=num1**num2\n",
    "    print(\"exp of two no.=\",exp)\n",
    "    \n",
    "elif(choice==7):\n",
    "    floordiv=num1//num2\n",
    "    print(\"floordiv of two no.=\",floordiv)\n",
    "    \n",
    "else:\n",
    "    print(\"invalid input\")\n",
    "    \n",
    "\n",
    "\n",
    "\n"
   ]
  },
  {
   "cell_type": "markdown",
   "id": "c2571bff",
   "metadata": {},
   "source": [
    "# NESTED IF"
   ]
  },
  {
   "cell_type": "code",
   "execution_count": null,
   "id": "efb4a72c",
   "metadata": {},
   "outputs": [],
   "source": [
    "amount = int(input(\"Enter the amount :\"))\n",
    "\n",
    "if amount <2000:\n",
    "    if amount >=1000:\n",
    "        print(\"a\")\n",
    "    else:\n",
    "        print(\"b\")\n",
    "        \n",
    "else:\n",
    "    if amount <=3500:\n",
    "        print(\"c\")\n",
    "    else:\n",
    "        print(\"d\")\n",
    "        "
   ]
  },
  {
   "cell_type": "code",
   "execution_count": null,
   "id": "99044160",
   "metadata": {},
   "outputs": [],
   "source": [
    "num = int(input(\"enter the numcber\"))\n",
    "\n",
    "if num%2 == 0:\n",
    "    if num%3==0:\n",
    "        print(\"Divisible by 3 and 2\")\n",
    "    else:\n",
    "        print(\"Not divisible by 2 and 3\")\n",
    "            \n",
    "            \n",
    "else:\n",
    "    if num%4==0:\n",
    "        print(\"Divisible by 4\")\n",
    "    else:\n",
    "        print(\"Not divisible by 4\")"
   ]
  },
  {
   "cell_type": "code",
   "execution_count": null,
   "id": "9f8f3782",
   "metadata": {},
   "outputs": [],
   "source": [
    "num = int(input(\"enter the numcber\"))\n",
    "\n",
    "\n",
    "if num%2==0:\n",
    "    if num%3 == 0:\n",
    "        print(\"Divisible by 3 and 2\")\n",
    "    else:\n",
    "        print(\"Not divisible by 2 and 3\")\n",
    "        \n",
    "else:\n",
    "    if num%4==0:\n",
    "        print(\"Divisible by 4\")\n",
    "    else:\n",
    "        print(\"not div by 4\")"
   ]
  },
  {
   "cell_type": "markdown",
   "id": "577087a1",
   "metadata": {},
   "source": [
    "# LOOPS"
   ]
  },
  {
   "cell_type": "raw",
   "id": "608c3d9e",
   "metadata": {},
   "source": [
    "1.while loop\n",
    "2.for loop\n",
    "3.nested for loop"
   ]
  },
  {
   "cell_type": "code",
   "execution_count": null,
   "id": "4bdf4a71",
   "metadata": {},
   "outputs": [],
   "source": [
    "#while loop\n",
    "count = 0\n",
    "while(count<=5):\n",
    "    print(\"the count is\",count)\n",
    "    count = count+1\n",
    "print(\"DONE\")"
   ]
  },
  {
   "cell_type": "code",
   "execution_count": null,
   "id": "05df6df0",
   "metadata": {},
   "outputs": [],
   "source": [
    "#use else statements with loops\n",
    "\n",
    "count = 10\n",
    "while count>5:\n",
    "    print(count,\"is greater than 5\")\n",
    "    count = count-1\n",
    "else:\n",
    "    print(count,\"is less than 5\")\n",
    "    "
   ]
  },
  {
   "cell_type": "code",
   "execution_count": null,
   "id": "6c145267",
   "metadata": {},
   "outputs": [],
   "source": [
    "count = 10\n",
    "while count >= 8:\n",
    "    print(\"current\", count)\n",
    "    count = count + 1\n",
    "else:\n",
    "    print(\"out of loop\")"
   ]
  },
  {
   "cell_type": "code",
   "execution_count": null,
   "id": "19b68ac5",
   "metadata": {},
   "outputs": [],
   "source": [
    "count = 10\n",
    "while count <= 10:\n",
    "    print(\"current\", count)\n",
    "    count = count - 1\n",
    "else:\n",
    "    print(\"out of loop\")"
   ]
  },
  {
   "cell_type": "code",
   "execution_count": null,
   "id": "93fa0481",
   "metadata": {},
   "outputs": [],
   "source": [
    "letter = \"python \"\n",
    "for x in letter:\n",
    "    print(x)\n",
    "print(\"Done\")"
   ]
  },
  {
   "cell_type": "code",
   "execution_count": null,
   "id": "16c3b85e",
   "metadata": {},
   "outputs": [],
   "source": [
    "letter =\"python hello\"\n",
    "print(len(letter))"
   ]
  },
  {
   "cell_type": "code",
   "execution_count": null,
   "id": "c95679bc",
   "metadata": {},
   "outputs": [],
   "source": [
    "for letter in 'Python hello ':\n",
    "    print(letter)\n",
    "print(\"Done\")"
   ]
  },
  {
   "cell_type": "code",
   "execution_count": null,
   "id": "209b4c14",
   "metadata": {},
   "outputs": [],
   "source": [
    "a = \"python hello\"\n",
    "for letter in a:\n",
    "    print(a)\n",
    "print(\"Done\")"
   ]
  },
  {
   "cell_type": "code",
   "execution_count": null,
   "id": "6f8a396c",
   "metadata": {},
   "outputs": [],
   "source": [
    "letter = \"python\"\n",
    "for n in letter:\n",
    "    print(n)"
   ]
  },
  {
   "cell_type": "code",
   "execution_count": null,
   "id": "f16c9a36",
   "metadata": {},
   "outputs": [],
   "source": [
    "a = ('ball','bat','cat')\n",
    "\n",
    "for d in a:\n",
    "    print(d)\n",
    "print(\"done\")"
   ]
  },
  {
   "cell_type": "markdown",
   "id": "015c1a72",
   "metadata": {},
   "source": [
    "# slice"
   ]
  },
  {
   "cell_type": "code",
   "execution_count": null,
   "id": "94c59fd4",
   "metadata": {},
   "outputs": [],
   "source": [
    "print(list(range(1,10,2)))\n"
   ]
  },
  {
   "cell_type": "code",
   "execution_count": null,
   "id": "da923311",
   "metadata": {},
   "outputs": [],
   "source": [
    "print(list(range(0,21)))\n"
   ]
  },
  {
   "cell_type": "code",
   "execution_count": null,
   "id": "c9b0a453",
   "metadata": {},
   "outputs": [],
   "source": [
    "a = range(5,10)\n",
    "print(tuple(a))"
   ]
  },
  {
   "cell_type": "code",
   "execution_count": null,
   "id": "9aa3c27d",
   "metadata": {},
   "outputs": [],
   "source": [
    "for x in a:\n",
    "    print(x)"
   ]
  },
  {
   "cell_type": "code",
   "execution_count": null,
   "id": "fa998ddb",
   "metadata": {},
   "outputs": [],
   "source": [
    "print(range(1,10))"
   ]
  },
  {
   "cell_type": "code",
   "execution_count": null,
   "id": "6654efd3",
   "metadata": {},
   "outputs": [],
   "source": [
    "for x in range(1,11,2):\n",
    "    print(x)"
   ]
  },
  {
   "cell_type": "code",
   "execution_count": null,
   "id": "233b9d9c",
   "metadata": {},
   "outputs": [],
   "source": [
    "#break\n",
    "for letter in 'python':\n",
    "    if letter == 't':\n",
    "        break\n",
    "    print('',letter)\n",
    "    \n",
    "    \n",
    "var = 10\n",
    "while var > 0:\n",
    "    print(\"current variable value:\",var)\n",
    "    \n",
    "    var = var-1\n",
    "    if var == 1:\n",
    "        break\n",
    "        \n",
    "print(\"Break condition\")"
   ]
  },
  {
   "cell_type": "code",
   "execution_count": null,
   "id": "09f944dc",
   "metadata": {},
   "outputs": [],
   "source": [
    "#continue\n",
    "for letter in 'python':\n",
    "    if letter == 'y':\n",
    "        continue\n",
    "    print('',letter)\n",
    "    \n",
    "    \n",
    "var = 10\n",
    "while var > 0:\n",
    "    \n",
    "    \n",
    "    var = var-1\n",
    "    if var == 9:\n",
    "        print(\"current variable value:\",var)\n",
    "        continue\n",
    "        \n",
    "print(\"Break condition\")"
   ]
  },
  {
   "cell_type": "code",
   "execution_count": null,
   "id": "7e277d04",
   "metadata": {},
   "outputs": [],
   "source": [
    "#pass\n",
    "for letter in 'python':\n",
    "    if letter == 't':\n",
    "        pass\n",
    "    print('',letter)\n",
    "    \n",
    "    \n",
    "var = 10\n",
    "while var > 0:\n",
    "    print(\"current variable value:\",var)\n",
    "    \n",
    "    var = var-1\n",
    "    if var == 1:\n",
    "        pass\n",
    "        \n",
    "print(\"Break condition\")"
   ]
  },
  {
   "cell_type": "code",
   "execution_count": null,
   "id": "ce36493d",
   "metadata": {},
   "outputs": [],
   "source": [
    "amount = int(input(\"Enter the amount : \"))\n",
    "if (amount < 1000):\n",
    "    dis = amount*0.05\n",
    "    print(\"discount\",dis)\n",
    "    print(\"net payable\", amount-dis)\n",
    "elif (amount>=1000 | amount<=5000):\n",
    "     dis = amount*0.10\n",
    "    print(\"discount\",dis)\n",
    "    print(\"net payable\", amount-dis)\n",
    "elif (amount>=5000 | amount<=10000):\n",
    "     dis = amount*0.15\n",
    "    print(\"discount\",dis)\n",
    "    print(\"net payable\", amount-dis)\n",
    "else:\n",
    "     dis = amount*0.20\n",
    "    print(\"discount\",dis)\n",
    "print(\"net payable\",amount-dis)\n",
    "    "
   ]
  },
  {
   "cell_type": "code",
   "execution_count": null,
   "id": "444c5f66",
   "metadata": {},
   "outputs": [],
   "source": []
  },
  {
   "cell_type": "code",
   "execution_count": null,
   "id": "dabcf926",
   "metadata": {
    "scrolled": true
   },
   "outputs": [],
   "source": [
    "amount = int(input(\"enter the amount : \"))\n",
    "\n",
    "if(amount<1000):\n",
    "    dis = amount*0.05\n",
    "    print(\"discount\",dis)\n",
    "    print(\"net payable\",amount-dis)\n",
    "elif(amount>=1000 | amount<=5000):\n",
    "    dis = amount*0.10\n",
    "    print(\"discount\",dis)\n",
    "    print(\"net payable\",amount-dis)\n",
    "elif(amount>=5000 | amount<=10000):\n",
    "    dis = amount*0.15\n",
    "    print(\"discount\",dis)\n",
    "    print(\"net payable\",amount-dis)\n",
    "else:\n",
    "    dis = amount*0.20\n",
    "    print(\"discount\",dis)\n",
    "    print(\"net payable\",amount-dis)\n",
    "    "
   ]
  },
  {
   "cell_type": "code",
   "execution_count": 11,
   "id": "a6ca0f67",
   "metadata": {},
   "outputs": [
    {
     "name": "stdout",
     "output_type": "stream",
     "text": [
      "Enter the amount:1000\n",
      "Discount amount is: 500.0\n",
      "netpay = 500.0\n"
     ]
    }
   ],
   "source": [
    "amount = int(input(\"Enter the amount:\"))\n",
    "\n",
    "\n",
    "\n",
    "if amount >=1 and amount<=1000:\n",
    "    \n",
    "    dis = amount*0.5\n",
    "    print(\"Discount amount is:\",dis)\n",
    "\n",
    "    \n",
    "elif amount>=1000 and amount<=5000:\n",
    "    \n",
    "    dis = amount*0.10\n",
    "    print(\"Discount amount is:\",dis)\n",
    "\n",
    "else:\n",
    "    \n",
    "    dis = amount*0.15\n",
    "    print(\"Discount amount is:\",dis)\n",
    "\n",
    "    \n",
    "    \n",
    "netpay = amount-dis\n",
    "print(\"netpay =\",netpay)\n"
   ]
  },
  {
   "cell_type": "markdown",
   "id": "484faacc",
   "metadata": {},
   "source": [
    "# STRING"
   ]
  },
  {
   "cell_type": "code",
   "execution_count": 1,
   "id": "f8633074",
   "metadata": {},
   "outputs": [
    {
     "name": "stdout",
     "output_type": "stream",
     "text": [
      "h\n",
      "enter the updated string helo wpython\n"
     ]
    }
   ],
   "source": [
    "var1 = \"helo world\"\n",
    "#var2 = \"python programming\"\n",
    "\n",
    "print(var1[0])\n",
    "\n",
    "print(\"enter the updated string\",var1[:6] +'python')"
   ]
  },
  {
   "cell_type": "code",
   "execution_count": 3,
   "id": "1b3dc2a5",
   "metadata": {},
   "outputs": [
    {
     "name": "stdout",
     "output_type": "stream",
     "text": [
      "hello world\n"
     ]
    }
   ],
   "source": [
    "a = 'hello'\n",
    "b =' world'\n",
    "\n",
    "print(a+b)"
   ]
  },
  {
   "cell_type": "code",
   "execution_count": 5,
   "id": "5c27f3ec",
   "metadata": {},
   "outputs": [
    {
     "name": "stdout",
     "output_type": "stream",
     "text": [
      "apple apple apple \n"
     ]
    }
   ],
   "source": [
    "a = 'apple '\n",
    "b = 3\n",
    "print(a*b)"
   ]
  },
  {
   "cell_type": "code",
   "execution_count": 6,
   "id": "034cfaea",
   "metadata": {},
   "outputs": [
    {
     "name": "stdout",
     "output_type": "stream",
     "text": [
      "My name is and weight is kg zara 24\n"
     ]
    }
   ],
   "source": [
    "#string formatting operator\n",
    "\n",
    "a = 'zara'\n",
    "b = 24\n",
    "print(\"My name is and weight is kg\",a,b)"
   ]
  },
  {
   "cell_type": "code",
   "execution_count": 9,
   "id": "ae38a89b",
   "metadata": {},
   "outputs": [
    {
     "name": "stdout",
     "output_type": "stream",
     "text": [
      "My name is zara and weight is 24 kg\n"
     ]
    }
   ],
   "source": [
    "print(\"My name is %s and weight is %d kg\"(a,b))"
   ]
  },
  {
   "cell_type": "markdown",
   "id": "58206d34",
   "metadata": {},
   "source": [
    "%s - string\n",
    "%d - decimal\n",
    "\\t - tab[3times space]"
   ]
  },
  {
   "cell_type": "code",
   "execution_count": 11,
   "id": "c1736011",
   "metadata": {},
   "outputs": [
    {
     "name": "stdout",
     "output_type": "stream",
     "text": [
      "Hello pooja, welcome to educadd\n"
     ]
    }
   ],
   "source": [
    "strs = \"hello pooja, welcome to educadd\"\n",
    "print(strs.capitalize())\n"
   ]
  },
  {
   "cell_type": "code",
   "execution_count": 13,
   "id": "adb15d41",
   "metadata": {},
   "outputs": [
    {
     "name": "stdout",
     "output_type": "stream",
     "text": [
      "s ,variable== Ehello welcome to educadd\n",
      "4\n"
     ]
    }
   ],
   "source": [
    "name =\"ehello welcome to educadd\"\n",
    "s = name.capitalize()#capital\n",
    "print(\"s ,variable==\",s)\n",
    "sub = 'e'\n",
    "print(s.count(sub))"
   ]
  },
  {
   "cell_type": "code",
   "execution_count": 14,
   "id": "8988a7d8",
   "metadata": {},
   "outputs": [
    {
     "name": "stdout",
     "output_type": "stream",
     "text": [
      "8\n"
     ]
    }
   ],
   "source": [
    "name = \"welcome to educadd\"\n",
    "sub = \"t\"\n",
    "print(name.find(sub))"
   ]
  },
  {
   "cell_type": "code",
   "execution_count": 15,
   "id": "a7d95326",
   "metadata": {},
   "outputs": [
    {
     "name": "stdout",
     "output_type": "stream",
     "text": [
      "lower False\n",
      "upper True\n",
      "-------------------------------\n",
      "lower False\n",
      "upper True\n"
     ]
    }
   ],
   "source": [
    "a = \"hello word\"\n",
    "b = \"HELLO\"\n",
    "print(\"lower\",b.islower())#false\n",
    "print(\"upper\",b.isupper())#true\n",
    "print(\"-------------------------------\")\n",
    "print(\"lower\",b.islower())#true\n",
    "print(\"upper\",b.isupper())#false"
   ]
  },
  {
   "cell_type": "code",
   "execution_count": 16,
   "id": "b2b6b91f",
   "metadata": {},
   "outputs": [
    {
     "name": "stdout",
     "output_type": "stream",
     "text": [
      "True\n"
     ]
    }
   ],
   "source": [
    "a = '123'\n",
    "print(a.isdigit())"
   ]
  },
  {
   "cell_type": "code",
   "execution_count": 17,
   "id": "812e72af",
   "metadata": {},
   "outputs": [
    {
     "name": "stdout",
     "output_type": "stream",
     "text": [
      "True\n"
     ]
    }
   ],
   "source": [
    "b = \" \"\n",
    "print(b.isspace())"
   ]
  },
  {
   "cell_type": "code",
   "execution_count": 18,
   "id": "ebf2bc1f",
   "metadata": {},
   "outputs": [
    {
     "name": "stdout",
     "output_type": "stream",
     "text": [
      "len 5\n",
      "upper WORLD\n",
      "lower hello\n",
      "join wHELLOoHELLOrHELLOlHELLOd\n"
     ]
    }
   ],
   "source": [
    "a = \"HELLO\"\n",
    "b = \"world\"\n",
    "print(\"len\",len(a))\n",
    "print(\"upper\",b.upper())\n",
    "print(\"lower\",a.lower())\n",
    "print(\"join\",a.join(b))"
   ]
  },
  {
   "cell_type": "code",
   "execution_count": null,
   "id": "79b5a026",
   "metadata": {},
   "outputs": [],
   "source": [
    "1.Append\n",
    "2.count\n",
    "3.Index\n"
   ]
  },
  {
   "cell_type": "code",
   "execution_count": 2,
   "id": "5b567a25",
   "metadata": {},
   "outputs": [
    {
     "name": "stdout",
     "output_type": "stream",
     "text": [
      "['orange', 'kiwi']\n",
      "7\n",
      "<class 'list'>\n"
     ]
    }
   ],
   "source": [
    "fruits = [\"apple\",\"banana\",\"cherry\",\"orange\",\"kiwi\",\"melon\",\"mango\"]\n",
    "print(fruits[3:5])\n",
    "print(len(fruits))\n",
    "print(type(fruits))"
   ]
  },
  {
   "cell_type": "code",
   "execution_count": 3,
   "id": "d31c0ffe",
   "metadata": {},
   "outputs": [
    {
     "name": "stdout",
     "output_type": "stream",
     "text": [
      "3\n",
      "<class 'tuple'>\n"
     ]
    }
   ],
   "source": [
    "fruits = (\"apple\",\"banana\",\"cherry\")\n",
    "print(len(fruits))\n",
    "print(type(fruits))"
   ]
  },
  {
   "cell_type": "code",
   "execution_count": 4,
   "id": "3ac4baea",
   "metadata": {},
   "outputs": [
    {
     "name": "stdout",
     "output_type": "stream",
     "text": [
      "['p', 'c', '97', '01']\n",
      "03\n",
      "['c', '97', '01']\n"
     ]
    },
    {
     "ename": "NameError",
     "evalue": "name 'lis2' is not defined",
     "output_type": "error",
     "traceback": [
      "\u001b[1;31m---------------------------------------------------------------------------\u001b[0m",
      "\u001b[1;31mNameError\u001b[0m                                 Traceback (most recent call last)",
      "Cell \u001b[1;32mIn[4], line 8\u001b[0m\n\u001b[0;32m      6\u001b[0m \u001b[38;5;28;01mdel\u001b[39;00m lis[\u001b[38;5;241m0\u001b[39m]\n\u001b[0;32m      7\u001b[0m \u001b[38;5;28mprint\u001b[39m(lis)\n\u001b[1;32m----> 8\u001b[0m \u001b[38;5;28mprint\u001b[39m(lis2)\n",
      "\u001b[1;31mNameError\u001b[0m: name 'lis2' is not defined"
     ]
    }
   ],
   "source": [
    "lis = ['p','c','97','01']\n",
    "lis2 = '03'\n",
    "print(lis)\n",
    "print(lis2)\n",
    "del lis2\n",
    "del lis[0]\n",
    "print(lis)\n",
    "print(lis2)"
   ]
  },
  {
   "cell_type": "code",
   "execution_count": 5,
   "id": "bee5619a",
   "metadata": {},
   "outputs": [
    {
     "name": "stdout",
     "output_type": "stream",
     "text": [
      "['python', 'python', 'python']\n",
      "3\n"
     ]
    }
   ],
   "source": [
    "print(['python']*3)\n",
    "print(len(['python']*3))"
   ]
  },
  {
   "cell_type": "code",
   "execution_count": 6,
   "id": "b57eaf28",
   "metadata": {},
   "outputs": [
    {
     "name": "stdout",
     "output_type": "stream",
     "text": [
      "1\n",
      "110\n"
     ]
    }
   ],
   "source": [
    "a = [1,110,2,3,4,4,55,8,100]\n",
    "print(min(a))\n",
    "print(max(a))"
   ]
  },
  {
   "cell_type": "code",
   "execution_count": 7,
   "id": "45a3756d",
   "metadata": {},
   "outputs": [
    {
     "name": "stdout",
     "output_type": "stream",
     "text": [
      "['java', 'python', 'c', 'c++', 'r']\n"
     ]
    }
   ],
   "source": [
    "list1=['java','python','c','c++',]\n",
    "list1.append('r')\n",
    "print(list1)"
   ]
  },
  {
   "cell_type": "code",
   "execution_count": 11,
   "id": "75e0fd32",
   "metadata": {},
   "outputs": [
    {
     "name": "stdout",
     "output_type": "stream",
     "text": [
      "count for 123: 3\n",
      "count for abc: 2\n"
     ]
    }
   ],
   "source": [
    "list1=[123,123,456,'abc','abc',456,123]\n",
    "print(\"count for 123:\",list1.count(123))\n",
    "sub = 'abc'\n",
    "print(\"count for abc:\",list1.count(sub))\n"
   ]
  },
  {
   "cell_type": "code",
   "execution_count": 12,
   "id": "250ebd26",
   "metadata": {},
   "outputs": [
    {
     "name": "stdout",
     "output_type": "stream",
     "text": [
      "['java', 'python', 'machine learning', 'c', 'c++']\n"
     ]
    }
   ],
   "source": [
    "list1=['java','python','c','c++']\n",
    "list1.insert(2,'machine learning')\n",
    "print(list1)"
   ]
  },
  {
   "cell_type": "code",
   "execution_count": 13,
   "id": "dfab35a9",
   "metadata": {},
   "outputs": [
    {
     "name": "stdout",
     "output_type": "stream",
     "text": [
      "['physics', 'maths', 'biology']\n"
     ]
    }
   ],
   "source": [
    "lista=['physics','chemistry','maths','biology']\n",
    "lista.pop(1)\n",
    "print(lista)"
   ]
  },
  {
   "cell_type": "code",
   "execution_count": 15,
   "id": "9c3c7c7c",
   "metadata": {},
   "outputs": [
    {
     "name": "stdout",
     "output_type": "stream",
     "text": [
      "[1, 2, 4, 7, 8, 9, 10, 11]\n",
      "['biology', 'chemistry', 'maths', 'physics']\n"
     ]
    }
   ],
   "source": [
    "lista=['physics','chemistry','maths','biology']\n",
    "lis = [1,2,11,10,4,8,7,9]\n",
    "lis.sort()\n",
    "print(lis)\n",
    "lista.sort()\n",
    "print(lista)"
   ]
  },
  {
   "cell_type": "code",
   "execution_count": 16,
   "id": "ab2559d5",
   "metadata": {},
   "outputs": [
    {
     "name": "stdout",
     "output_type": "stream",
     "text": [
      "[1, 5, 9, 0, 28, 96, 33]\n",
      "[]\n"
     ]
    }
   ],
   "source": [
    "a =[1,5,9,0,28,96,33]\n",
    "print(a)\n",
    "a.clear()\n",
    "print(a)"
   ]
  },
  {
   "cell_type": "code",
   "execution_count": 17,
   "id": "24d74842",
   "metadata": {},
   "outputs": [
    {
     "name": "stdout",
     "output_type": "stream",
     "text": [
      "b= ['hello world', 'hell', 'ABC']\n"
     ]
    },
    {
     "ename": "NameError",
     "evalue": "name 'c' is not defined",
     "output_type": "error",
     "traceback": [
      "\u001b[1;31m---------------------------------------------------------------------------\u001b[0m",
      "\u001b[1;31mNameError\u001b[0m                                 Traceback (most recent call last)",
      "Cell \u001b[1;32mIn[17], line 4\u001b[0m\n\u001b[0;32m      2\u001b[0m b \u001b[38;5;241m=\u001b[39m a\u001b[38;5;241m.\u001b[39mcopy()\n\u001b[0;32m      3\u001b[0m \u001b[38;5;28mprint\u001b[39m(\u001b[38;5;124m\"\u001b[39m\u001b[38;5;124mb=\u001b[39m\u001b[38;5;124m\"\u001b[39m,b)\n\u001b[1;32m----> 4\u001b[0m \u001b[38;5;28mprint\u001b[39m(\u001b[38;5;124m\"\u001b[39m\u001b[38;5;124mc=\u001b[39m\u001b[38;5;124m\"\u001b[39m,c)\n",
      "\u001b[1;31mNameError\u001b[0m: name 'c' is not defined"
     ]
    }
   ],
   "source": [
    "a = [\"hello world\",\"hell\",\"ABC\"]\n",
    "b = a.copy()\n",
    "print(\"b=\",b)\n",
    "print(\"c=\",c)\n"
   ]
  },
  {
   "cell_type": "markdown",
   "id": "26d08843",
   "metadata": {},
   "source": [
    "# RANDOM"
   ]
  },
  {
   "cell_type": "code",
   "execution_count": 1,
   "id": "d318d25e",
   "metadata": {},
   "outputs": [
    {
     "ename": "NameError",
     "evalue": "name 'uniform' is not defined",
     "output_type": "error",
     "traceback": [
      "\u001b[1;31m---------------------------------------------------------------------------\u001b[0m",
      "\u001b[1;31mNameError\u001b[0m                                 Traceback (most recent call last)",
      "Cell \u001b[1;32mIn[1], line 1\u001b[0m\n\u001b[1;32m----> 1\u001b[0m uniform\n\u001b[0;32m      2\u001b[0m random\n\u001b[0;32m      3\u001b[0m randrange\n",
      "\u001b[1;31mNameError\u001b[0m: name 'uniform' is not defined"
     ]
    }
   ],
   "source": [
    "uniform\n",
    "random\n",
    "randrange\n",
    "randint"
   ]
  },
  {
   "cell_type": "code",
   "execution_count": 2,
   "id": "8005961e",
   "metadata": {},
   "outputs": [
    {
     "name": "stdout",
     "output_type": "stream",
     "text": [
      "0.8901513854544052\n"
     ]
    }
   ],
   "source": [
    "#generate random numbers in python\n",
    "\n",
    "import random\n",
    "print(random.random())"
   ]
  },
  {
   "cell_type": "code",
   "execution_count": 7,
   "id": "58116e3e",
   "metadata": {},
   "outputs": [
    {
     "name": "stdout",
     "output_type": "stream",
     "text": [
      "5\n"
     ]
    }
   ],
   "source": [
    "print(random.randrange(0,11))\n"
   ]
  },
  {
   "cell_type": "code",
   "execution_count": 6,
   "id": "e3fd7d66",
   "metadata": {},
   "outputs": [
    {
     "name": "stdout",
     "output_type": "stream",
     "text": [
      "9.608083720550871\n"
     ]
    }
   ],
   "source": [
    "print(random.uniform(0,10))"
   ]
  },
  {
   "cell_type": "code",
   "execution_count": 8,
   "id": "98f8cea4",
   "metadata": {},
   "outputs": [
    {
     "name": "stdout",
     "output_type": "stream",
     "text": [
      "0.7159666284657494\n"
     ]
    }
   ],
   "source": [
    "#make a program that creates a random number and stores into x.\n",
    "\n",
    "x=random.random()\n",
    "print(x)"
   ]
  },
  {
   "cell_type": "code",
   "execution_count": 23,
   "id": "7b49fb13",
   "metadata": {},
   "outputs": [
    {
     "ename": "IndentationError",
     "evalue": "expected an indented block after 'for' statement on line 6 (3236571134.py, line 7)",
     "output_type": "error",
     "traceback": [
      "\u001b[1;36m  Cell \u001b[1;32mIn[23], line 7\u001b[1;36m\u001b[0m\n\u001b[1;33m    y = random.randrange(77)\u001b[0m\n\u001b[1;37m    ^\u001b[0m\n\u001b[1;31mIndentationError\u001b[0m\u001b[1;31m:\u001b[0m expected an indented block after 'for' statement on line 6\n"
     ]
    }
   ],
   "source": [
    "#create a program that generates a 100 random numbers and find the frequency of each number\n",
    "import random\n",
    "\n",
    "\n",
    "print(\"Random numbers between 0 and 100: \")\n",
    "for i in range(0, 100):\n",
    "y = random.randrange(77)\n",
    "print(y)\n"
   ]
  },
  {
   "cell_type": "code",
   "execution_count": 24,
   "id": "433ecde4",
   "metadata": {},
   "outputs": [
    {
     "name": "stdout",
     "output_type": "stream",
     "text": [
      "81.80989436160442\n",
      "82\n"
     ]
    }
   ],
   "source": [
    "#1 to 10\n",
    "import random\n",
    "x = random.uniform(1,100)\n",
    "print(x)\n",
    "\n",
    "print(round(x))"
   ]
  },
  {
   "cell_type": "code",
   "execution_count": 19,
   "id": "a50d666a",
   "metadata": {},
   "outputs": [
    {
     "name": "stdout",
     "output_type": "stream",
     "text": [
      "[39, 72, 65]\n"
     ]
    }
   ],
   "source": [
    "#make a program that print three random numbers\n",
    "\n",
    "import random #lib\n",
    "randomlist = [] #empty list\n",
    "for i in range(0,3):\n",
    "    n = random.randint(1,100)\n",
    "    randomlist.append(n)\n",
    "print(randomlist)"
   ]
  },
  {
   "cell_type": "code",
   "execution_count": 21,
   "id": "333c8c35",
   "metadata": {},
   "outputs": [
    {
     "name": "stdout",
     "output_type": "stream",
     "text": [
      "randrange 3\n",
      "randint 5\n"
     ]
    }
   ],
   "source": [
    "print(\"randrange\",random.randrange(1,5))\n",
    "print(\"randint\",random.randint(1,5))"
   ]
  },
  {
   "cell_type": "markdown",
   "id": "edb3806f",
   "metadata": {},
   "source": [
    "# DATE TIME"
   ]
  },
  {
   "cell_type": "code",
   "execution_count": 27,
   "id": "eb5dd432",
   "metadata": {},
   "outputs": [],
   "source": [
    "#1.time.time\n",
    "#2.time.localtime\n",
    "#3.time.asctime\n",
    "#4.time.clock\n",
    "#5.time.sleep#"
   ]
  },
  {
   "cell_type": "code",
   "execution_count": 28,
   "id": "373da4d7",
   "metadata": {},
   "outputs": [
    {
     "data": {
      "text/plain": [
       "1700134025.0497382"
      ]
     },
     "execution_count": 28,
     "metadata": {},
     "output_type": "execute_result"
    }
   ],
   "source": [
    "import time\n",
    "time.time()"
   ]
  },
  {
   "cell_type": "code",
   "execution_count": 29,
   "id": "4b4c2894",
   "metadata": {},
   "outputs": [
    {
     "name": "stdout",
     "output_type": "stream",
     "text": [
      "45\n"
     ]
    }
   ],
   "source": [
    "print(365-320)"
   ]
  },
  {
   "cell_type": "code",
   "execution_count": 30,
   "id": "f0b7fe19",
   "metadata": {},
   "outputs": [
    {
     "data": {
      "text/plain": [
       "time.struct_time(tm_year=2023, tm_mon=11, tm_mday=16, tm_hour=16, tm_min=58, tm_sec=16, tm_wday=3, tm_yday=320, tm_isdst=0)"
      ]
     },
     "execution_count": 30,
     "metadata": {},
     "output_type": "execute_result"
    }
   ],
   "source": [
    "time.localtime() #0 monday 1 , tuesday 2 wend"
   ]
  },
  {
   "cell_type": "code",
   "execution_count": 31,
   "id": "a9ffd8ea",
   "metadata": {},
   "outputs": [
    {
     "data": {
      "text/plain": [
       "'Thu Nov 16 16:58:44 2023'"
      ]
     },
     "execution_count": 31,
     "metadata": {},
     "output_type": "execute_result"
    }
   ],
   "source": [
    "time.asctime(time.localtime(time.time())) #readable format"
   ]
  },
  {
   "cell_type": "code",
   "execution_count": 32,
   "id": "03d222ca",
   "metadata": {},
   "outputs": [
    {
     "name": "stdout",
     "output_type": "stream",
     "text": [
      "p\n",
      "y\n",
      "t\n",
      "h\n",
      "o\n",
      "n\n"
     ]
    }
   ],
   "source": [
    "for a in \"python\":\n",
    "    print(a)\n",
    "    time.sleep(3)"
   ]
  },
  {
   "cell_type": "code",
   "execution_count": 1,
   "id": "b6f66f17",
   "metadata": {},
   "outputs": [
    {
     "name": "stdout",
     "output_type": "stream",
     "text": [
      "Defaulting to user installation because normal site-packages is not writeable\n",
      "Requirement already satisfied: dateparser in c:\\users\\bhuvan\\appdata\\roaming\\python\\python311\\site-packages (1.1.8)\n",
      "Requirement already satisfied: python-dateutil in c:\\programdata\\anaconda3\\lib\\site-packages (from dateparser) (2.8.2)\n",
      "Requirement already satisfied: pytz in c:\\programdata\\anaconda3\\lib\\site-packages (from dateparser) (2023.3.post1)\n",
      "Requirement already satisfied: regex!=2019.02.19,!=2021.8.27 in c:\\programdata\\anaconda3\\lib\\site-packages (from dateparser) (2022.7.9)\n",
      "Requirement already satisfied: tzlocal in c:\\users\\bhuvan\\appdata\\roaming\\python\\python311\\site-packages (from dateparser) (5.2)\n",
      "Requirement already satisfied: six>=1.5 in c:\\programdata\\anaconda3\\lib\\site-packages (from python-dateutil->dateparser) (1.16.0)\n",
      "Requirement already satisfied: tzdata in c:\\programdata\\anaconda3\\lib\\site-packages (from tzlocal->dateparser) (2023.3)\n",
      "Note: you may need to restart the kernel to use updated packages.\n"
     ]
    }
   ],
   "source": [
    " pip install dateparser"
   ]
  },
  {
   "cell_type": "code",
   "execution_count": 2,
   "id": "1a139ab8",
   "metadata": {},
   "outputs": [
    {
     "name": "stdout",
     "output_type": "stream",
     "text": [
      "2023-11-17 12:59:37.001033\n",
      "2023-11-19 12:59:37.104592\n"
     ]
    }
   ],
   "source": [
    "import dateparser\n",
    "print(dateparser.parse('yesterday'))\n",
    "print(dateparser.parse('morgen'))"
   ]
  },
  {
   "cell_type": "markdown",
   "id": "5d334579",
   "metadata": {},
   "source": [
    "# calender\n",
    "1.month\n",
    "2.calender(complete year)"
   ]
  },
  {
   "cell_type": "code",
   "execution_count": 5,
   "id": "929f3ecd",
   "metadata": {},
   "outputs": [
    {
     "name": "stdout",
     "output_type": "stream",
     "text": [
      "Note: you may need to restart the kernel to use updated packages.Defaulting to user installation because normal site-packages is not writeable\n",
      "\n"
     ]
    },
    {
     "name": "stderr",
     "output_type": "stream",
     "text": [
      "ERROR: Could not find a version that satisfies the requirement calendar (from versions: none)\n",
      "ERROR: No matching distribution found for calendar\n"
     ]
    }
   ],
   "source": [
    "pip install calendar"
   ]
  },
  {
   "cell_type": "code",
   "execution_count": 6,
   "id": "4150714a",
   "metadata": {},
   "outputs": [],
   "source": [
    "import calendar"
   ]
  },
  {
   "cell_type": "code",
   "execution_count": 9,
   "id": "7e19a2ea",
   "metadata": {},
   "outputs": [
    {
     "name": "stdout",
     "output_type": "stream",
     "text": [
      "   November 2023\n",
      "Mo Tu We Th Fr Sa Su\n",
      "       1  2  3  4  5\n",
      " 6  7  8  9 10 11 12\n",
      "13 14 15 16 17 18 19\n",
      "20 21 22 23 24 25 26\n",
      "27 28 29 30\n",
      "\n"
     ]
    }
   ],
   "source": [
    "cal = calendar.month(2023,11)\n",
    "print(cal)"
   ]
  },
  {
   "cell_type": "code",
   "execution_count": 10,
   "id": "5332d679",
   "metadata": {},
   "outputs": [
    {
     "data": {
      "text/plain": [
       "(2, 30)"
      ]
     },
     "execution_count": 10,
     "metadata": {},
     "output_type": "execute_result"
    }
   ],
   "source": [
    "calendar.monthrange(2023,11)#start day of month"
   ]
  },
  {
   "cell_type": "code",
   "execution_count": 12,
   "id": "c7f81f8a",
   "metadata": {},
   "outputs": [
    {
     "name": "stdout",
     "output_type": "stream",
     "text": [
      "\n",
      "January\n",
      "February\n",
      "March\n",
      "April\n",
      "May\n",
      "June\n",
      "July\n",
      "August\n",
      "September\n",
      "October\n",
      "November\n",
      "December\n"
     ]
    }
   ],
   "source": [
    "for name in calendar.month_name:\n",
    "    print(name)"
   ]
  },
  {
   "cell_type": "code",
   "execution_count": 13,
   "id": "082b0a38",
   "metadata": {},
   "outputs": [
    {
     "name": "stdout",
     "output_type": "stream",
     "text": [
      "<calendar._localized_month object at 0x0000018130A68050>\n"
     ]
    }
   ],
   "source": [
    "print(calendar.month_name)"
   ]
  },
  {
   "cell_type": "code",
   "execution_count": 14,
   "id": "2654b6fe",
   "metadata": {},
   "outputs": [
    {
     "name": "stdout",
     "output_type": "stream",
     "text": [
      "Mo Tu We Th Fr Sa Su\n"
     ]
    }
   ],
   "source": [
    "print(calendar.weekheader(2))"
   ]
  },
  {
   "cell_type": "code",
   "execution_count": 15,
   "id": "858d7e9b",
   "metadata": {},
   "outputs": [
    {
     "name": "stdout",
     "output_type": "stream",
     "text": [
      "                                  2002\n",
      "\n",
      "      January                   February                   March\n",
      "Mo Tu We Th Fr Sa Su      Mo Tu We Th Fr Sa Su      Mo Tu We Th Fr Sa Su\n",
      "    1  2  3  4  5  6                   1  2  3                   1  2  3\n",
      " 7  8  9 10 11 12 13       4  5  6  7  8  9 10       4  5  6  7  8  9 10\n",
      "14 15 16 17 18 19 20      11 12 13 14 15 16 17      11 12 13 14 15 16 17\n",
      "21 22 23 24 25 26 27      18 19 20 21 22 23 24      18 19 20 21 22 23 24\n",
      "28 29 30 31               25 26 27 28               25 26 27 28 29 30 31\n",
      "\n",
      "       April                      May                       June\n",
      "Mo Tu We Th Fr Sa Su      Mo Tu We Th Fr Sa Su      Mo Tu We Th Fr Sa Su\n",
      " 1  2  3  4  5  6  7             1  2  3  4  5                      1  2\n",
      " 8  9 10 11 12 13 14       6  7  8  9 10 11 12       3  4  5  6  7  8  9\n",
      "15 16 17 18 19 20 21      13 14 15 16 17 18 19      10 11 12 13 14 15 16\n",
      "22 23 24 25 26 27 28      20 21 22 23 24 25 26      17 18 19 20 21 22 23\n",
      "29 30                     27 28 29 30 31            24 25 26 27 28 29 30\n",
      "\n",
      "        July                     August                  September\n",
      "Mo Tu We Th Fr Sa Su      Mo Tu We Th Fr Sa Su      Mo Tu We Th Fr Sa Su\n",
      " 1  2  3  4  5  6  7                1  2  3  4                         1\n",
      " 8  9 10 11 12 13 14       5  6  7  8  9 10 11       2  3  4  5  6  7  8\n",
      "15 16 17 18 19 20 21      12 13 14 15 16 17 18       9 10 11 12 13 14 15\n",
      "22 23 24 25 26 27 28      19 20 21 22 23 24 25      16 17 18 19 20 21 22\n",
      "29 30 31                  26 27 28 29 30 31         23 24 25 26 27 28 29\n",
      "                                                    30\n",
      "\n",
      "      October                   November                  December\n",
      "Mo Tu We Th Fr Sa Su      Mo Tu We Th Fr Sa Su      Mo Tu We Th Fr Sa Su\n",
      "    1  2  3  4  5  6                   1  2  3                         1\n",
      " 7  8  9 10 11 12 13       4  5  6  7  8  9 10       2  3  4  5  6  7  8\n",
      "14 15 16 17 18 19 20      11 12 13 14 15 16 17       9 10 11 12 13 14 15\n",
      "21 22 23 24 25 26 27      18 19 20 21 22 23 24      16 17 18 19 20 21 22\n",
      "28 29 30 31               25 26 27 28 29 30         23 24 25 26 27 28 29\n",
      "                                                    30 31\n",
      "\n"
     ]
    }
   ],
   "source": [
    "cal = calendar.calendar(2002)\n",
    "print(cal)"
   ]
  },
  {
   "cell_type": "raw",
   "id": "6f343db1",
   "metadata": {},
   "source": [
    "#time and cal\n",
    "1.strftime(str)\n",
    "2.strptime(tuple)\n",
    "3.mktime"
   ]
  },
  {
   "cell_type": "code",
   "execution_count": 16,
   "id": "9a3a5e99",
   "metadata": {},
   "outputs": [],
   "source": [
    "import time"
   ]
  },
  {
   "cell_type": "code",
   "execution_count": 18,
   "id": "870cd227",
   "metadata": {},
   "outputs": [
    {
     "name": "stdout",
     "output_type": "stream",
     "text": [
      "Oct 03 2023 16 45 : 34\n"
     ]
    }
   ],
   "source": [
    "t = (2023,10,3,16,45,34,1,23,0)\n",
    "T = time.mktime(t)\n",
    "print(time.strftime(\"%b %d %Y %H %M : %S\",time.localtime(T)))"
   ]
  },
  {
   "cell_type": "code",
   "execution_count": 20,
   "id": "05e7aeb0",
   "metadata": {},
   "outputs": [
    {
     "name": "stdout",
     "output_type": "stream",
     "text": [
      "time.struct_time(tm_year=2021, tm_mon=12, tm_mday=30, tm_hour=0, tm_min=0, tm_sec=0, tm_wday=3, tm_yday=364, tm_isdst=-1)\n"
     ]
    }
   ],
   "source": [
    "stru = time.strptime(\"30 12 2021\",\"%d %m %Y\")\n",
    "print(stru)"
   ]
  },
  {
   "cell_type": "code",
   "execution_count": 22,
   "id": "eb9169bb",
   "metadata": {},
   "outputs": [
    {
     "data": {
      "text/plain": [
       "4"
      ]
     },
     "execution_count": 22,
     "metadata": {},
     "output_type": "execute_result"
    }
   ],
   "source": [
    "calendar.weekday(2023,11,3)"
   ]
  },
  {
   "cell_type": "code",
   "execution_count": 23,
   "id": "003218a3",
   "metadata": {},
   "outputs": [
    {
     "data": {
      "text/plain": [
       "False"
      ]
     },
     "execution_count": 23,
     "metadata": {},
     "output_type": "execute_result"
    }
   ],
   "source": [
    "calendar.isleap(2022)"
   ]
  },
  {
   "cell_type": "code",
   "execution_count": 24,
   "id": "78e58037",
   "metadata": {},
   "outputs": [
    {
     "data": {
      "text/plain": [
       "True"
      ]
     },
     "execution_count": 24,
     "metadata": {},
     "output_type": "execute_result"
    }
   ],
   "source": [
    "calendar.isleap(2000)"
   ]
  },
  {
   "cell_type": "code",
   "execution_count": 25,
   "id": "dec9507b",
   "metadata": {},
   "outputs": [
    {
     "data": {
      "text/plain": [
       "6"
      ]
     },
     "execution_count": 25,
     "metadata": {},
     "output_type": "execute_result"
    }
   ],
   "source": [
    "calendar.leapdays(2000,2023)"
   ]
  },
  {
   "cell_type": "code",
   "execution_count": 26,
   "id": "920f9c94",
   "metadata": {},
   "outputs": [],
   "source": [
    "import datetime"
   ]
  },
  {
   "cell_type": "code",
   "execution_count": 30,
   "id": "def0e240",
   "metadata": {},
   "outputs": [
    {
     "name": "stdout",
     "output_type": "stream",
     "text": [
      "Defaulting to user installation because normal site-packages is not writeable\n",
      "Requirement already satisfied: datetime in c:\\users\\bhuvan\\appdata\\roaming\\python\\python311\\site-packages (5.3)\n",
      "Requirement already satisfied: zope.interface in c:\\programdata\\anaconda3\\lib\\site-packages (from datetime) (5.4.0)\n",
      "Requirement already satisfied: pytz in c:\\programdata\\anaconda3\\lib\\site-packages (from datetime) (2023.3.post1)\n",
      "Requirement already satisfied: setuptools in c:\\programdata\\anaconda3\\lib\\site-packages (from zope.interface->datetime) (68.0.0)\n",
      "Note: you may need to restart the kernel to use updated packages.\n"
     ]
    }
   ],
   "source": [
    "pip install datetime"
   ]
  },
  {
   "cell_type": "code",
   "execution_count": 31,
   "id": "35e28f83",
   "metadata": {},
   "outputs": [
    {
     "name": "stdout",
     "output_type": "stream",
     "text": [
      "10 days, 0:00:00\n"
     ]
    }
   ],
   "source": [
    "print(datetime.timedelta(days=10))"
   ]
  },
  {
   "cell_type": "code",
   "execution_count": 32,
   "id": "ddc3f1ee",
   "metadata": {},
   "outputs": [
    {
     "name": "stdout",
     "output_type": "stream",
     "text": [
      "4 days, 0:00:01\n",
      "4\n",
      "345601.0\n"
     ]
    }
   ],
   "source": [
    "from datetime import datetime\n",
    "a = datetime(2016,10,6,0,0,0)\n",
    "b = datetime(2016,10,1,23,59,59)\n",
    "print(a-b)\n",
    "print((a-b).days)\n",
    "#4\n",
    "print((a-b).total_seconds())"
   ]
  },
  {
   "cell_type": "code",
   "execution_count": 33,
   "id": "a1adab66",
   "metadata": {},
   "outputs": [
    {
     "name": "stdout",
     "output_type": "stream",
     "text": [
      "2032\n"
     ]
    }
   ],
   "source": [
    "a = [1,2,8,788,564,123,546]\n",
    "summ = sum(a)\n",
    "print(summ)"
   ]
  },
  {
   "cell_type": "code",
   "execution_count": 34,
   "id": "8e4e705d",
   "metadata": {},
   "outputs": [
    {
     "name": "stdout",
     "output_type": "stream",
     "text": [
      "7\n"
     ]
    }
   ],
   "source": [
    "lent = len(a)\n",
    "print(lent)"
   ]
  },
  {
   "cell_type": "code",
   "execution_count": 35,
   "id": "1c158610",
   "metadata": {},
   "outputs": [
    {
     "name": "stdout",
     "output_type": "stream",
     "text": [
      "788\n"
     ]
    }
   ],
   "source": [
    "maxx = max(a)\n",
    "print(maxx)"
   ]
  },
  {
   "cell_type": "code",
   "execution_count": 37,
   "id": "28030b54",
   "metadata": {},
   "outputs": [
    {
     "name": "stdout",
     "output_type": "stream",
     "text": [
      "1\n"
     ]
    }
   ],
   "source": [
    "minn = min(a)\n",
    "print(minn)"
   ]
  },
  {
   "cell_type": "markdown",
   "id": "ced5c6bc",
   "metadata": {},
   "source": [
    "# FUNCTIONS"
   ]
  },
  {
   "cell_type": "raw",
   "id": "788bae56",
   "metadata": {},
   "source": [
    "def funtionname(parameter):\n",
    "    \"Doc string\"\n",
    "    \"Function_suite\"\n",
    "    return"
   ]
  },
  {
   "cell_type": "code",
   "execution_count": 38,
   "id": "faa9e3ac",
   "metadata": {},
   "outputs": [
    {
     "name": "stdout",
     "output_type": "stream",
     "text": [
      "Educadd\n"
     ]
    }
   ],
   "source": [
    "def name():\n",
    "    print(\"Educadd\")\n",
    "    \n",
    "name()"
   ]
  },
  {
   "cell_type": "code",
   "execution_count": 39,
   "id": "7d467c82",
   "metadata": {},
   "outputs": [
    {
     "data": {
      "text/plain": [
       "'abcbcd'"
      ]
     },
     "execution_count": 39,
     "metadata": {},
     "output_type": "execute_result"
    }
   ],
   "source": [
    "def name():\n",
    "    \n",
    "    \n",
    "    fullname = 'abc'+'bcd'\n",
    "    return fullname\n",
    "name()"
   ]
  },
  {
   "cell_type": "code",
   "execution_count": 40,
   "id": "6a655918",
   "metadata": {},
   "outputs": [
    {
     "name": "stdout",
     "output_type": "stream",
     "text": [
      "fullname ABCBCD\n"
     ]
    }
   ],
   "source": [
    "def name(fname,lname):\n",
    "    \n",
    "    fullname = fname+lname\n",
    "    print(\"fullname\",fullname)\n",
    "    \n",
    "name(\"ABC\",\"BCD\")"
   ]
  },
  {
   "cell_type": "code",
   "execution_count": 1,
   "id": "fc8f43bd",
   "metadata": {},
   "outputs": [
    {
     "data": {
      "text/plain": [
       "('fullname', 'ABCBCD')"
      ]
     },
     "execution_count": 1,
     "metadata": {},
     "output_type": "execute_result"
    }
   ],
   "source": [
    "\n",
    "def name(fname,lname):\n",
    "    \n",
    "    fullname = fname+lname\n",
    "    return \"fullname\",fullname\n",
    "    \n",
    "name(\"ABC\",\"BCD\")"
   ]
  },
  {
   "cell_type": "code",
   "execution_count": 5,
   "id": "1a385ce9",
   "metadata": {},
   "outputs": [
    {
     "data": {
      "text/plain": [
       "'USA'"
      ]
     },
     "execution_count": 5,
     "metadata": {},
     "output_type": "execute_result"
    }
   ],
   "source": [
    "def name_of_country(country = \"USA\"):\n",
    "    return country\n",
    "name_of_country()"
   ]
  },
  {
   "cell_type": "code",
   "execution_count": 6,
   "id": "9610e344",
   "metadata": {},
   "outputs": [
    {
     "data": {
      "text/plain": [
       "'INDIA'"
      ]
     },
     "execution_count": 6,
     "metadata": {},
     "output_type": "execute_result"
    }
   ],
   "source": [
    "name_of_country(\"INDIA\")"
   ]
  },
  {
   "cell_type": "code",
   "execution_count": 8,
   "id": "bd80f240",
   "metadata": {},
   "outputs": [
    {
     "data": {
      "text/plain": [
       "-10"
      ]
     },
     "execution_count": 8,
     "metadata": {},
     "output_type": "execute_result"
    }
   ],
   "source": [
    "def sum_of_two_numbers(small_numbers,large_numbers):\n",
    "    addition = large_numbers - small_numbers\n",
    "    return addition\n",
    "sum_of_two_numbers(20,10)"
   ]
  },
  {
   "cell_type": "code",
   "execution_count": 9,
   "id": "51d7b4e8",
   "metadata": {},
   "outputs": [
    {
     "data": {
      "text/plain": [
       "-12"
      ]
     },
     "execution_count": 9,
     "metadata": {},
     "output_type": "execute_result"
    }
   ],
   "source": [
    "sum_of_two_numbers(20,8)"
   ]
  },
  {
   "cell_type": "code",
   "execution_count": 10,
   "id": "616e251e",
   "metadata": {},
   "outputs": [
    {
     "data": {
      "text/plain": [
       "8"
      ]
     },
     "execution_count": 10,
     "metadata": {},
     "output_type": "execute_result"
    }
   ],
   "source": [
    "sum_of_two_numbers(2,10)"
   ]
  },
  {
   "cell_type": "code",
   "execution_count": 11,
   "id": "f3d5f850",
   "metadata": {},
   "outputs": [
    {
     "data": {
      "text/plain": [
       "10"
      ]
     },
     "execution_count": 11,
     "metadata": {},
     "output_type": "execute_result"
    }
   ],
   "source": [
    "def sum_of_two_numbers_key_words(small_number = 8,large_number = 20):\n",
    "    sumoftwovalues = large_number - small_number\n",
    "    return sumoftwovalues\n",
    "sum_of_two_numbers_key_words(large_number=20,small_number=10)"
   ]
  },
  {
   "cell_type": "code",
   "execution_count": 13,
   "id": "a3753195",
   "metadata": {},
   "outputs": [
    {
     "data": {
      "text/plain": [
       "(1, 2, 3, 4, 5, 6, 7, 8, '1')"
      ]
     },
     "execution_count": 13,
     "metadata": {},
     "output_type": "execute_result"
    }
   ],
   "source": [
    "def add(*adds):\n",
    "    first_variable = tuple('1')\n",
    "    \n",
    "    second_variable = adds + first_variable\n",
    "    \n",
    "    return second_variable\n",
    "\n",
    "add(1,2,3,4,5,6,7,8)"
   ]
  },
  {
   "cell_type": "code",
   "execution_count": 15,
   "id": "2527bd1a",
   "metadata": {},
   "outputs": [
    {
     "data": {
      "text/plain": [
       "507"
      ]
     },
     "execution_count": 15,
     "metadata": {},
     "output_type": "execute_result"
    }
   ],
   "source": [
    "def add(*adds):\n",
    "\n",
    "    sum = 0\n",
    "    for i in adds:\n",
    "        sum += i\n",
    "    return sum\n",
    "add(1,2,3,4,5,6,7,8,9,33,44,55,66,77,88,99)"
   ]
  },
  {
   "cell_type": "code",
   "execution_count": 18,
   "id": "0d5a512b",
   "metadata": {},
   "outputs": [
    {
     "name": "stdout",
     "output_type": "stream",
     "text": [
      "36\n"
     ]
    }
   ],
   "source": [
    "a=(1,2,3,4,5,6,7,8)\n",
    "sum = 0\n",
    "\n",
    "\n",
    "for i in a:\n",
    "    sum = sum+i\n",
    "    \n",
    "print(sum)"
   ]
  },
  {
   "cell_type": "code",
   "execution_count": 19,
   "id": "9d197cee",
   "metadata": {},
   "outputs": [
    {
     "data": {
      "text/plain": [
       "189"
      ]
     },
     "execution_count": 19,
     "metadata": {},
     "output_type": "execute_result"
    }
   ],
   "source": [
    "add(1,2,3,4,5,88,9,77)"
   ]
  },
  {
   "cell_type": "code",
   "execution_count": 22,
   "id": "edf4d451",
   "metadata": {},
   "outputs": [
    {
     "name": "stdout",
     "output_type": "stream",
     "text": [
      "{'f_name': 'abc', 'l_name': 'xyz', 'age': 2, 'phone_num': '+917894561231'}\n"
     ]
    }
   ],
   "source": [
    "def student_details(**kwargs):\n",
    "    \n",
    "    return kwargs\n",
    "\n",
    "f_var = student_details(f_name='abc',l_name='xyz',age= 2,phone_num='+917894561231')\n",
    "\n",
    "\n",
    "print(f_var)"
   ]
  },
  {
   "cell_type": "code",
   "execution_count": 27,
   "id": "4c0845dc",
   "metadata": {},
   "outputs": [],
   "source": [
    "def add(P, Q):    \n",
    "    return P + Q \n",
    "\n",
    "def subtract(P, Q):   \n",
    "    return P - Q  \n",
    "\n",
    "def multiply(P, Q):   \n",
    "    return P * Q   \n",
    "\n",
    "def divide(P, Q):   \n",
    "    return P / Q \n",
    "\n",
    "def mod(P, Q):\n",
    "    return P%Q\n",
    "\n",
    "def f_div(P, Q):\n",
    "    return P//Q\n",
    "\n",
    "def exp(P, Q):\n",
    "    return P**Q\n",
    " \n"
   ]
  },
  {
   "cell_type": "code",
   "execution_count": null,
   "id": "480c346e",
   "metadata": {},
   "outputs": [],
   "source": [
    "f_value = float(input(\"please enter the first value=\"))\n",
    "s_value = float(input(\"please enter the second value=\"))\n",
    "\n",
    "\n",
    "\n",
    "print()"
   ]
  },
  {
   "cell_type": "code",
   "execution_count": null,
   "id": "dcefc46d",
   "metadata": {},
   "outputs": [],
   "source": [
    "\n",
    "def add(x, y):\n",
    "    return x + y\n",
    "\n",
    "\n",
    "def subtract(x, y):\n",
    "    return x - y\n",
    "\n",
    "\n",
    "def multiply(x, y):\n",
    "    return x * y\n",
    "\n",
    "\n",
    "def divide(x, y):\n",
    "    return x / y\n",
    "\n",
    "def mod(x, y):\n",
    "    return P%Q\n",
    "\n",
    "def f_div(x, y):\n",
    "    return x//y\n",
    "\n",
    "def exp(x, y):\n",
    "    return x**y\n",
    "\n",
    "\n",
    "print(\"Select operation.\")\n",
    "print(\"1.Add\")\n",
    "print(\"2.Subtract\")\n",
    "print(\"3.Multiply\")\n",
    "print(\"4.Divide\")\n",
    "print(\"5.mod\")\n",
    "print(\"6.f_div\")\n",
    "print(\"7.exp\")\n",
    "\n",
    "    \n",
    "    choice = input(\"Enter choice(1/2/3/4/5/6/7): \")\n",
    "\n",
    "   \n",
    "    if choice in ('1', '2', '3', '4','5','6','7'):\n",
    "            num1 = float(input(\"Enter first number: \"))\n",
    "            num2 = float(input(\"Enter second number: \"))\n",
    "       \n",
    "\n",
    "        if choice == '1':\n",
    "            print(num1, \"+\", num2, \"=\", add(num1, num2))\n",
    "\n",
    "        elif choice == '2':\n",
    "            print(num1, \"-\", num2, \"=\", subtract(num1, num2))\n",
    "\n",
    "        elif choice == '3':\n",
    "            print(num1, \"*\", num2, \"=\", multiply(num1, num2))\n",
    "\n",
    "        elif choice == '4':\n",
    "            print(num1, \"/\", num2, \"=\", divide(num1, num2))\n",
    "         \n",
    "         elif choice == '5':\n",
    "            print(num1, \"%\", num2, \"=\", divide(num1, num2))\n",
    "        \n",
    "         elif choice == '6':\n",
    "            print(num1, \"//\", num2, \"=\", divide(num1, num2))\n",
    "        \n",
    "         elif choice == '7':\n",
    "            print(num1, \"**\", num2, \"=\", divide(num1, num2))\n",
    "    else:\n",
    "        print(\"Invalid Input\")"
   ]
  },
  {
   "cell_type": "markdown",
   "id": "39f133c3",
   "metadata": {},
   "source": [
    "# python program to add two numbers    "
   ]
  },
  {
   "cell_type": "code",
   "execution_count": 8,
   "id": "1f96c47f",
   "metadata": {},
   "outputs": [
    {
     "name": "stdout",
     "output_type": "stream",
     "text": [
      "The sum is 50\n"
     ]
    }
   ],
   "source": [
    "def add_num(a,b):\n",
    "    sum=a+b;\n",
    "    return sum;\n",
    "\n",
    "num1=25  \n",
    "num2=25\n",
    "print(\"The sum is\",add_num(num1,num2))"
   ]
  },
  {
   "cell_type": "code",
   "execution_count": 7,
   "id": "f3d2d8d2",
   "metadata": {},
   "outputs": [
    {
     "name": "stdout",
     "output_type": "stream",
     "text": [
      "2000000000\n"
     ]
    }
   ],
   "source": [
    "#maximum of two numbers\n",
    "\n",
    "def max(a, b):\n",
    "     \n",
    "    if a >= b:\n",
    "        return a\n",
    "    else:\n",
    "        return b\n",
    "     \n",
    "a = 2000000000\n",
    "b = 78945689\n",
    "print(max(a, b))"
   ]
  },
  {
   "cell_type": "code",
   "execution_count": 13,
   "id": "32e750a5",
   "metadata": {},
   "outputs": [
    {
     "name": "stdout",
     "output_type": "stream",
     "text": [
      "Factorial of 8 is 40320\n"
     ]
    }
   ],
   "source": [
    "def factorial(n):\n",
    "    if (n==0):\n",
    "        return 0\n",
    "    elif (n==1):\n",
    "        return 1\n",
    "    else:\n",
    "        return n * factorial(n-1)\n",
    "        \n",
    " \n",
    "\n",
    "num = 8\n",
    "print(\"Factorial of\",num,\"is\",factorial(num))"
   ]
  },
  {
   "cell_type": "code",
   "execution_count": 18,
   "id": "f6014cac",
   "metadata": {},
   "outputs": [
    {
     "name": "stdout",
     "output_type": "stream",
     "text": [
      " principal= 8\n",
      " time period= 9\n",
      "rate of interest= 10\n",
      "The Simple Interest is 7.2\n"
     ]
    },
    {
     "data": {
      "text/plain": [
       "7.2"
      ]
     },
     "execution_count": 18,
     "metadata": {},
     "output_type": "execute_result"
    }
   ],
   "source": [
    "def simple_interest(p,t,r):\n",
    "    print(' principal=',p)\n",
    "    print(' time period=',t)\n",
    "    print('rate of interest=',r)\n",
    "     \n",
    "    SI = (p*t*r)/100\n",
    "     \n",
    "    print('The Simple Interest is', SI)\n",
    "    return SI\n",
    "     \n",
    "\n",
    "simple_interest(8,9,10)"
   ]
  },
  {
   "cell_type": "code",
   "execution_count": 35,
   "id": "22e441a4",
   "metadata": {},
   "outputs": [
    {
     "data": {
      "text/plain": [
       "314.2"
      ]
     },
     "execution_count": 35,
     "metadata": {},
     "output_type": "execute_result"
    }
   ],
   "source": [
    "#area of circle\n",
    "def area_of_cir(pi=3.142,r=10):\n",
    "        \n",
    "        \n",
    "        AREA = pi*r*r\n",
    "        return AREA\n",
    "    \n",
    "area_of_cir(r=10)     "
   ]
  },
  {
   "cell_type": "code",
   "execution_count": 7,
   "id": "1b8766e3",
   "metadata": {},
   "outputs": [
    {
     "name": "stdout",
     "output_type": "stream",
     "text": [
      "enter number 5\n",
      "5 is Prime\n"
     ]
    }
   ],
   "source": [
    "#given number is prime number or not \n",
    "\n",
    "def check_prime_no(num):\n",
    "       for i in range(2, num):\n",
    "           if (num % i) == 0:\n",
    "             print(\"{} is not Prime\".format(num))\n",
    "             break\n",
    "       else:\n",
    "           print(\"{} is Prime\".format(num))\n",
    "\n",
    "    \n",
    "n = int(input(\"enter number \"))\n",
    "if n>1: \n",
    " check_prime_no(n)\n",
    "else:\n",
    " print(\"1 is neither prime nor composite\")"
   ]
  },
  {
   "cell_type": "code",
   "execution_count": 6,
   "id": "ee179be8",
   "metadata": {},
   "outputs": [
    {
     "name": "stdout",
     "output_type": "stream",
     "text": [
      "enter n: 5\n",
      "sum of cubes of first 5 natural numbers:  225\n"
     ]
    }
   ],
   "source": [
    "#sum of cubes\n",
    "def CubeSum(n):\n",
    "    s=0\n",
    "    for i in range(n+1):\n",
    "        s+=i**3\n",
    "    return s\n",
    "n=int(input(\"enter n: \"))\n",
    "print(\"sum of cubes of first {} natural numbers: \".format(n),CubeSum(n))"
   ]
  },
  {
   "cell_type": "code",
   "execution_count": 3,
   "id": "61de13b7",
   "metadata": {},
   "outputs": [
    {
     "name": "stdout",
     "output_type": "stream",
     "text": [
      "enter the number=8\n"
     ]
    },
    {
     "data": {
      "text/plain": [
       "'prime'"
      ]
     },
     "execution_count": 3,
     "metadata": {},
     "output_type": "execute_result"
    }
   ],
   "source": [
    "#prime\n",
    "def prime(i):\n",
    "\n",
    "    if(i%2)==0:\n",
    "        return \"prime\"\n",
    "    else:\n",
    "        return \"odd\"\n",
    "n = int(input(\"enter the number=\"))\n",
    "prime(n)\n"
   ]
  },
  {
   "cell_type": "code",
   "execution_count": 4,
   "id": "b37bcf09",
   "metadata": {},
   "outputs": [
    {
     "name": "stdout",
     "output_type": "stream",
     "text": [
      "enter the value: 5\n"
     ]
    },
    {
     "data": {
      "text/plain": [
       "25"
      ]
     },
     "execution_count": 4,
     "metadata": {},
     "output_type": "execute_result"
    }
   ],
   "source": [
    "#square\n",
    "def square(n):\n",
    "    summ = 0\n",
    "    for i in range(1,n+1):\n",
    "        summ = i*i\n",
    "    return summ\n",
    "n = int(input(\"enter the value: \"))\n",
    "square(n)"
   ]
  },
  {
   "cell_type": "code",
   "execution_count": 5,
   "id": "2d4a6fec",
   "metadata": {},
   "outputs": [
    {
     "name": "stdout",
     "output_type": "stream",
     "text": [
      "enter the value: 5\n",
      "sum of squares of first 5 natural numbers:  55\n"
     ]
    }
   ],
   "source": [
    "# sum of squares of n natural numbers\n",
    "\n",
    "def SumofSquares(n):\n",
    "    summofsq=0\n",
    "    for i in range(n+1):\n",
    "        summofsq += i**2\n",
    "    return summofsq\n",
    "\n",
    "\n",
    "n=int(input(\"enter the value: \"))\n",
    "print(\"sum of squares of first {} natural numbers: \".format(n),SumofSquares(n))\n"
   ]
  },
  {
   "cell_type": "code",
   "execution_count": 7,
   "id": "dcf13caf",
   "metadata": {},
   "outputs": [
    {
     "name": "stdout",
     "output_type": "stream",
     "text": [
      "pls provide the number:5\n"
     ]
    },
    {
     "data": {
      "text/plain": [
       "3"
      ]
     },
     "execution_count": 7,
     "metadata": {},
     "output_type": "execute_result"
    }
   ],
   "source": [
    "def fab(n):\n",
    "    if (n<=0):\n",
    "        return \"incorrect input\"\n",
    "    elif(n==1):\n",
    "        return 0\n",
    "    elif(n==2):\n",
    "        return 1\n",
    "    else:\n",
    "        return fab(n-1)+fab(n-2)\n",
    "fibonacci = int(input(\"pls provide the number:\"))\n",
    "fab(fibonacci)"
   ]
  },
  {
   "cell_type": "code",
   "execution_count": 8,
   "id": "981d17d7",
   "metadata": {},
   "outputs": [
    {
     "name": "stdout",
     "output_type": "stream",
     "text": [
      "avg = 8.5\n"
     ]
    },
    {
     "data": {
      "text/plain": [
       "('total=', 34)"
      ]
     },
     "execution_count": 8,
     "metadata": {},
     "output_type": "execute_result"
    }
   ],
   "source": [
    "#sum of array\n",
    "def arr_sum(n,avg):\n",
    "    summ = 0\n",
    "    for i in n:\n",
    "        summ += i\n",
    "        \n",
    "    average = summ/avg\n",
    "    print(\"avg =\",average)\n",
    "    return \"total=\",summ\n",
    "\n",
    "arr = [12,3,4,15]\n",
    "arr_len = len(arr)\n",
    "arr_sum(arr,arr_len)"
   ]
  },
  {
   "cell_type": "code",
   "execution_count": 9,
   "id": "2c6cb3c0",
   "metadata": {},
   "outputs": [
    {
     "name": "stdout",
     "output_type": "stream",
     "text": [
      "largest in given array   8888\n"
     ]
    }
   ],
   "source": [
    "# find maxx in array\n",
    "def largest(arr,n):\n",
    "    maxx = arr[0]\n",
    "    \n",
    "    for i in range(1,n):\n",
    "        if arr[i] > maxx:\n",
    "            maxx = arr[i]\n",
    "    return maxx\n",
    "\n",
    "arr = [987,546,8888,456]\n",
    "n = len(arr)\n",
    "ans = largest(arr,n)\n",
    "print(\"largest in given array  \",ans)"
   ]
  },
  {
   "cell_type": "code",
   "execution_count": 17,
   "id": "93f2ed12",
   "metadata": {},
   "outputs": [
    {
     "name": "stdout",
     "output_type": "stream",
     "text": [
      "minimum in given array   456\n"
     ]
    }
   ],
   "source": [
    "def minimum(arr,n):\n",
    "    minn = arr[0]\n",
    "    \n",
    "    for i in range(1,n):\n",
    "        if arr[i] < minn:\n",
    "            minn = arr[i]\n",
    "    return minn\n",
    "\n",
    "arr = [987,546,8888,456]\n",
    "n = len(arr)\n",
    "ans = minimum(arr,n)\n",
    "print(\"minimum in given array  \",ans)"
   ]
  },
  {
   "cell_type": "code",
   "execution_count": 18,
   "id": "2ed1ece7",
   "metadata": {},
   "outputs": [
    {
     "data": {
      "text/plain": [
       "('a=', 11, 'b=', 10)"
      ]
     },
     "execution_count": 18,
     "metadata": {},
     "output_type": "execute_result"
    }
   ],
   "source": [
    "def swap(a,b):\n",
    "    temp = a\n",
    "    a = b\n",
    "    b = temp\n",
    "    \n",
    "    return \"a=\",a, \"b=\",b\n",
    "swap(a=10,b=11)"
   ]
  },
  {
   "cell_type": "code",
   "execution_count": 19,
   "id": "12496a27",
   "metadata": {},
   "outputs": [
    {
     "name": "stdout",
     "output_type": "stream",
     "text": [
      "[24, 35, 9, 65, 12]\n"
     ]
    }
   ],
   "source": [
    "def swaplist(newlist):\n",
    "    size = len(newlist)\n",
    "    \n",
    "    \n",
    "    temp = newlist[0]\n",
    "    newlist[0] = newlist[size - 1]\n",
    "    newlist[size - 1] = temp\n",
    "    \n",
    "    return newlist\n",
    "\n",
    "\n",
    "newlist = [12,35,9,65,24]\n",
    "print(swaplist(newlist))\n",
    "     \n",
    "        "
   ]
  },
  {
   "cell_type": "code",
   "execution_count": 3,
   "id": "249305ea",
   "metadata": {},
   "outputs": [
    {
     "name": "stdout",
     "output_type": "stream",
     "text": [
      "8\n",
      "{'name': 'Bhuvan', 'age': 21, 8: 8}\n",
      "<class 'dict'>\n",
      "dict_keys(['name', 'age', 8])\n",
      "dict_values(['Bhuvan', 21, 8])\n"
     ]
    }
   ],
   "source": [
    "#dict\n",
    "value = {}\n",
    "value['name'] = \"Bhuvan\"\n",
    "value['age'] = 21\n",
    "value[8] = 8 \n",
    "print(value[8])\n",
    "print(value)\n",
    "print(type(value))\n",
    "print(value.keys())\n",
    "print(value.values())"
   ]
  },
  {
   "cell_type": "code",
   "execution_count": 7,
   "id": "657f2cc7",
   "metadata": {},
   "outputs": [
    {
     "name": "stdout",
     "output_type": "stream",
     "text": [
      "enter the value for n5\n",
      "10\n",
      "1000\n",
      "5000\n",
      "125000\n",
      "4375000\n",
      "61250000\n"
     ]
    },
    {
     "data": {
      "text/plain": [
       "0"
      ]
     },
     "execution_count": 7,
     "metadata": {},
     "output_type": "execute_result"
    }
   ],
   "source": [
    "#python program for finding a reminder of array multiplication divided by n\n",
    "\n",
    "def findrem(arr,length,n):\n",
    "    product = 1\n",
    "    \n",
    "    for i in range(length):\n",
    "        product = product * arr[i]\n",
    "        print(product)\n",
    "    return product%n\n",
    "\n",
    "\n",
    "\n",
    "arr = [10,100,5,25,35,14]\n",
    "length = len(arr)\n",
    "n = int(input(\"enter the value for n\"))\n",
    "\n",
    "\n",
    "findrem(arr,length,n)"
   ]
  },
  {
   "cell_type": "code",
   "execution_count": 9,
   "id": "16f538e6",
   "metadata": {},
   "outputs": [
    {
     "ename": "NameError",
     "evalue": "name 'pos' is not defined",
     "output_type": "error",
     "traceback": [
      "\u001b[1;31m---------------------------------------------------------------------------\u001b[0m",
      "\u001b[1;31mNameError\u001b[0m                                 Traceback (most recent call last)",
      "Cell \u001b[1;32mIn[9], line 14\u001b[0m\n\u001b[0;32m     11\u001b[0m List \u001b[38;5;241m=\u001b[39m [\u001b[38;5;241m23\u001b[39m,\u001b[38;5;241m65\u001b[39m,\u001b[38;5;241m19\u001b[39m,\u001b[38;5;241m90\u001b[39m]\n\u001b[0;32m     12\u001b[0m pos1,pos2 \u001b[38;5;241m=\u001b[39m \u001b[38;5;241m1\u001b[39m,\u001b[38;5;241m3\u001b[39m\n\u001b[1;32m---> 14\u001b[0m \u001b[38;5;28mprint\u001b[39m(swapPositions(List,pos\u001b[38;5;241m-\u001b[39m\u001b[38;5;241m1\u001b[39m,pos2\u001b[38;5;241m-\u001b[39m\u001b[38;5;241m1\u001b[39m))\n",
      "\u001b[1;31mNameError\u001b[0m: name 'pos' is not defined"
     ]
    }
   ],
   "source": [
    "#python program to swap elements\n",
    "# at given positions\n",
    "\n",
    "#swap functions\n",
    "def swapPositions(list,pos1,pos2):\n",
    "    \n",
    "    list[pos1],list[pos2] = list[pos2],list[pos1]\n",
    "    return list\n",
    "\n",
    "#driver function\n",
    "List = [23,65,19,90]\n",
    "pos1,pos2 = 1,3\n",
    "\n",
    "print(swapPositions(List,pos-1,pos2-1))"
   ]
  },
  {
   "cell_type": "code",
   "execution_count": 11,
   "id": "1f65cd8e",
   "metadata": {},
   "outputs": [
    {
     "data": {
      "text/plain": [
       "8"
      ]
     },
     "execution_count": 11,
     "metadata": {},
     "output_type": "execute_result"
    }
   ],
   "source": [
    "def multiplylist(mylist):\n",
    "\n",
    "    result = 1\n",
    "    \n",
    "    for i in mylist:\n",
    "        result = result*i\n",
    "        \n",
    "    return result\n",
    "\n",
    "newlist = [1,2,4]\n",
    "\n",
    "multiplylist(newlist)"
   ]
  },
  {
   "cell_type": "code",
   "execution_count": 1,
   "id": "9b9a723b",
   "metadata": {},
   "outputs": [
    {
     "name": "stdout",
     "output_type": "stream",
     "text": [
      "[4, 5, 6, 7, 1, 2, 3]\n"
     ]
    }
   ],
   "source": [
    "#python program for reverse algorithm for array rotation\n",
    "\n",
    "def reversearray(arr,d):\n",
    "    c=(arr[d:])+(arr[:d])\n",
    "    return c\n",
    "#driver function\n",
    "arr= [1,2,3,4,5,6,7]\n",
    "d = 3\n",
    "print(reversearray(arr,d))"
   ]
  },
  {
   "cell_type": "code",
   "execution_count": 3,
   "id": "5fbf0538",
   "metadata": {},
   "outputs": [
    {
     "name": "stdout",
     "output_type": "stream",
     "text": [
      "5 6 52 36 12 10 "
     ]
    }
   ],
   "source": [
    "#python program to split array and move first\n",
    "#part to end\n",
    "\n",
    "\n",
    "\n",
    "def splitarr(arr,n,k):\n",
    "    for i in range(0,k):\n",
    "        x = arr[0]\n",
    "        for j in range(0,n-1):\n",
    "            arr[j] = arr[j + 1]\n",
    "        arr[n-1] = x\n",
    "        \n",
    "        \n",
    "        \n",
    "        \n",
    "#main\n",
    "arr = [12,10,5,6,52,36]\n",
    "n = len(arr)\n",
    "position = 2\n",
    "\n",
    "splitarr(arr,n,position)\n",
    "\n",
    "for i in range(0,n):\n",
    "    print(arr[i],end=' ')"
   ]
  },
  {
   "cell_type": "code",
   "execution_count": 5,
   "id": "0853372f",
   "metadata": {},
   "outputs": [
    {
     "name": "stdout",
     "output_type": "stream",
     "text": [
      "the list is : [1, 4, 5, 7, 8]\n",
      "length of list using method is : 5\n"
     ]
    }
   ],
   "source": [
    "#count the elements in list\n",
    "\n",
    "test_list = [1,4,5,7,8]\n",
    "\n",
    "print(\"the list is : \" + str(test_list))\n",
    "counter = 0\n",
    "for i in test_list:\n",
    "#incrementing counter\n",
    "    counter += 1\n",
    "print(\"length of list using method is : \" + str(counter))"
   ]
  },
  {
   "cell_type": "markdown",
   "id": "38516145",
   "metadata": {},
   "source": [
    "#different ways to clear a list in python\n",
    "\n",
    "using clear()\n",
    "reinitiating the list\n",
    "using\"*=0\"\n",
    "using del\n",
    "using pop()method\n",
    "using slicing"
   ]
  },
  {
   "cell_type": "code",
   "execution_count": 6,
   "id": "94db2ead",
   "metadata": {},
   "outputs": [
    {
     "name": "stdout",
     "output_type": "stream",
     "text": [
      "GEEK befor clear: [6, 0, 4, 1]\n",
      "GEEK after clear: []\n"
     ]
    }
   ],
   "source": [
    "new = [6,0,4,1]\n",
    "print('GEEK befor clear:',new)\n",
    "\n",
    "\n",
    "#clearing list\n",
    "new.clear()\n",
    "print('GEEK after clear:',new)"
   ]
  },
  {
   "cell_type": "code",
   "execution_count": 7,
   "id": "2898600b",
   "metadata": {},
   "outputs": [
    {
     "name": "stdout",
     "output_type": "stream",
     "text": [
      "list1 before deleting is : [1, 2, 3]\n",
      "list1 after clearing using reinitialization : []\n"
     ]
    }
   ],
   "source": [
    "list1 = [1,2,3]\n",
    "\n",
    "#printing list2 before deleting\n",
    "print(\"list1 before deleting is : \"+ str(list1))\n",
    "\n",
    "#deleting list using reinitialization\n",
    "list1 = []\n",
    "\n",
    "#printing list2 after reinitialization\n",
    "print(\"list1 after clearing using reinitialization : \"+ str(list1))"
   ]
  },
  {
   "cell_type": "code",
   "execution_count": 8,
   "id": "772b7a8f",
   "metadata": {},
   "outputs": [
    {
     "name": "stdout",
     "output_type": "stream",
     "text": [
      "list1 before deleting is : [1, 2, 3]\n",
      "list1 after clearing using del : []\n",
      "list2 before deleting is : [5, 6, 7]\n",
      "list1 after clearing using del : []\n"
     ]
    }
   ],
   "source": [
    "list1 = [1,2,3]\n",
    "list2 = [5,6,7]\n",
    "\n",
    "#printing list before deleting\n",
    "print(\"list1 before deleting is : \"+ str(list1))\n",
    "\n",
    "#deleting list using del\n",
    "del list1[:]\n",
    "print(\"list1 after clearing using del : \"+ str(list1))\n",
    "\n",
    "#printing list before deleting\n",
    "print(\"list2 before deleting is : \"+ str(list2))\n",
    "\n",
    "#deleting list using del\n",
    "del list2[:]\n",
    "print(\"list1 after clearing using del : \"+ str(list2))\n",
    "\n"
   ]
  },
  {
   "cell_type": "code",
   "execution_count": 9,
   "id": "6adf8a01",
   "metadata": {},
   "outputs": [
    {
     "name": "stdout",
     "output_type": "stream",
     "text": [
      "YES\n"
     ]
    }
   ],
   "source": [
    "#function which return reverse of string\n",
    "\n",
    "def isPalindrome(s):\n",
    "    return s == s[::-1]\n",
    "\n",
    "#driver code\n",
    "s = \"malayalam\"\n",
    "ans = isPalindrome(s)\n",
    "\n",
    "if ans:\n",
    "    print(\"YES\")\n",
    "else:\n",
    "    print(\"NO\")"
   ]
  },
  {
   "cell_type": "code",
   "execution_count": 13,
   "id": "e4a46be4",
   "metadata": {},
   "outputs": [
    {
     "name": "stdout",
     "output_type": "stream",
     "text": [
      "code practice quiz new\n"
     ]
    }
   ],
   "source": [
    "#reverse words of string\n",
    "import re\n",
    "def rev_sentence(sentence):\n",
    "    \n",
    "#find all words in sentence\n",
    "    words = re.findall('\\w+',sentence)\n",
    "    \n",
    "    reverse_sentence = ' '.join(words[i] for i in range(len(words)-1,-1,-1))\n",
    "    \n",
    "    return  reverse_sentence\n",
    "if  __name__==\"__main__\":\n",
    "    input = 'new quiz practice code'\n",
    "    print ( rev_sentence(input))"
   ]
  },
  {
   "cell_type": "code",
   "execution_count": 7,
   "id": "ee7850fc",
   "metadata": {},
   "outputs": [
    {
     "name": "stdout",
     "output_type": "stream",
     "text": [
      "YES\n"
     ]
    }
   ],
   "source": [
    "def isPalindrome(b):\n",
    "    return b == b[::-1]\n",
    "\n",
    "\n",
    "b = \"rotator\"\n",
    "ans = isPalindrome(b)\n",
    "\n",
    "if ans:\n",
    "    print(\"YES\")\n",
    "else:\n",
    "    print(\"NO\")     \n"
   ]
  },
  {
   "cell_type": "markdown",
   "id": "9e99b5fd",
   "metadata": {},
   "source": [
    "# LAMDA"
   ]
  },
  {
   "cell_type": "code",
   "execution_count": 9,
   "id": "89c321d4",
   "metadata": {},
   "outputs": [
    {
     "name": "stdout",
     "output_type": "stream",
     "text": [
      "Bhuvan kumar\n"
     ]
    }
   ],
   "source": [
    "firstname = lambda lastname,fname: fname+ \" \"+lastname\n",
    "\n",
    "print(firstname(\"kumar\",\"Bhuvan\"))"
   ]
  },
  {
   "cell_type": "code",
   "execution_count": 10,
   "id": "6d716327",
   "metadata": {},
   "outputs": [
    {
     "name": "stdout",
     "output_type": "stream",
     "text": [
      "Educadd Thinkworks\n"
     ]
    }
   ],
   "source": [
    "firstname = lambda lastname: lastname+\" \"+\"Thinkworks\"\n",
    "\n",
    "print(firstname(\"Educadd\"))"
   ]
  },
  {
   "cell_type": "code",
   "execution_count": 11,
   "id": "d5a1eaf1",
   "metadata": {},
   "outputs": [
    {
     "name": "stdout",
     "output_type": "stream",
     "text": [
      "7\n"
     ]
    }
   ],
   "source": [
    "var = lambda a,b :b+a\n",
    "print(var(5,2))"
   ]
  },
  {
   "cell_type": "code",
   "execution_count": 12,
   "id": "41e4b737",
   "metadata": {},
   "outputs": [
    {
     "name": "stdout",
     "output_type": "stream",
     "text": [
      "With argument value 5 :  25\n",
      "With argument value 10 :  30\n"
     ]
    }
   ],
   "source": [
    "var = lambda a : a +20\n",
    "\n",
    "\n",
    "print('With argument value 5 : ',var(5))\n",
    "print('With argument value 10 : ',var(10))\n"
   ]
  },
  {
   "cell_type": "code",
   "execution_count": 13,
   "id": "7536fd0e",
   "metadata": {},
   "outputs": [
    {
     "name": "stdout",
     "output_type": "stream",
     "text": [
      "8\n"
     ]
    }
   ],
   "source": [
    "maxx = lambda x,y: x if(x>y) else y\n",
    "\n",
    "print(maxx(8,1))"
   ]
  },
  {
   "cell_type": "code",
   "execution_count": 15,
   "id": "809dda5c",
   "metadata": {},
   "outputs": [
    {
     "name": "stdout",
     "output_type": "stream",
     "text": [
      "10\n"
     ]
    }
   ],
   "source": [
    "minn = lambda x,y: x if(x<y) else y\n",
    "\n",
    "print(minn(88,10))"
   ]
  },
  {
   "cell_type": "code",
   "execution_count": 16,
   "id": "7ec1f00c",
   "metadata": {},
   "outputs": [
    {
     "name": "stdout",
     "output_type": "stream",
     "text": [
      "79\n"
     ]
    }
   ],
   "source": [
    "add = lambda x,y: x + y\n",
    "\n",
    "print(add(24,55))"
   ]
  },
  {
   "cell_type": "code",
   "execution_count": 18,
   "id": "ccdb42bc",
   "metadata": {},
   "outputs": [
    {
     "name": "stdout",
     "output_type": "stream",
     "text": [
      "44\n"
     ]
    }
   ],
   "source": [
    "sub = lambda x,y: x - y\n",
    "\n",
    "print(sub(99,55))"
   ]
  },
  {
   "cell_type": "code",
   "execution_count": 19,
   "id": "5c39a09c",
   "metadata": {},
   "outputs": [
    {
     "name": "stdout",
     "output_type": "stream",
     "text": [
      "12.0\n"
     ]
    }
   ],
   "source": [
    "div = lambda x,y: x/y\n",
    "\n",
    "print(div(24,2))"
   ]
  },
  {
   "cell_type": "code",
   "execution_count": 25,
   "id": "c13b8493",
   "metadata": {},
   "outputs": [
    {
     "name": "stdout",
     "output_type": "stream",
     "text": [
      "39.5\n"
     ]
    }
   ],
   "source": [
    "avg = lambda x,y: (x+y)/2\n",
    "\n",
    "print(avg(24,55))"
   ]
  },
  {
   "cell_type": "code",
   "execution_count": 22,
   "id": "3b9d1521",
   "metadata": {},
   "outputs": [
    {
     "name": "stdout",
     "output_type": "stream",
     "text": [
      "40\n"
     ]
    }
   ],
   "source": [
    "value = lambda a : a+20\n",
    "print(value(20))"
   ]
  },
  {
   "cell_type": "code",
   "execution_count": 24,
   "id": "245f9de3",
   "metadata": {},
   "outputs": [
    {
     "name": "stdout",
     "output_type": "stream",
     "text": [
      "the value of 5+3= 8\n",
      "the value of 7+2= 9\n"
     ]
    }
   ],
   "source": [
    "lambda_add = lambda a,b : a+b\n",
    "\n",
    "\n",
    "print('the value of 5+3=',lambda_add(5,3))\n",
    "print('the value of 7+2=',lambda_add(7,2))"
   ]
  },
  {
   "cell_type": "code",
   "execution_count": 26,
   "id": "35fb5922",
   "metadata": {},
   "outputs": [
    {
     "name": "stdout",
     "output_type": "stream",
     "text": [
      "the odd numbers are : [5, 17, 45, 5, 237, 133, 21, 43]\n"
     ]
    }
   ],
   "source": [
    "orig_list = [5,17,56,45,8,5,6,88,96,237,133,78,21,32,43]\n",
    "\n",
    "#filter the odd numbers from list\n",
    "filtered_list = list(filter(lambda x: (x%2 != 0) , orig_list))\n",
    "\n",
    "print('the odd numbers are :',filtered_list)"
   ]
  },
  {
   "cell_type": "code",
   "execution_count": 27,
   "id": "ce303f6e",
   "metadata": {},
   "outputs": [
    {
     "name": "stdout",
     "output_type": "stream",
     "text": [
      "the even numbers are : [56, 8, 6, 88, 96, 78, 32]\n"
     ]
    }
   ],
   "source": [
    "orig_list = [5,17,56,45,8,5,6,88,96,237,133,78,21,32,43]\n",
    "\n",
    "#filter the even numbers from list\n",
    "filtered_list = list(filter(lambda x: (x%2 == 0) , orig_list))\n",
    "\n",
    "print('the even numbers are :',filtered_list)"
   ]
  },
  {
   "cell_type": "code",
   "execution_count": 2,
   "id": "00662ec7",
   "metadata": {},
   "outputs": [
    {
     "name": "stdout",
     "output_type": "stream",
     "text": [
      "the  numbers divisible by 5 are : [5, 45, 5]\n"
     ]
    }
   ],
   "source": [
    "orig_list = [5,17,56,45,8,5,6,88,96,237,133,78,21,32,43]\n",
    "\n",
    "#filter the numbers divisible from list\n",
    "filtered_list = list(filter(lambda x: (x%5 == 0) , orig_list))\n",
    "\n",
    "print('the  numbers divisible by 5 are :',filtered_list)"
   ]
  },
  {
   "cell_type": "markdown",
   "id": "7b4a883f",
   "metadata": {},
   "source": [
    "# MAP FUNCTION"
   ]
  },
  {
   "cell_type": "code",
   "execution_count": 3,
   "id": "64fac668",
   "metadata": {},
   "outputs": [
    {
     "name": "stdout",
     "output_type": "stream",
     "text": [
      "New List :  [1, 2, 3, 4, 5, 6, 7, 8, 9, 10]\n"
     ]
    }
   ],
   "source": [
    "original_list = [1,2,3,4,5,6,7,8,9,10]\n",
    "#double each number in the original list\n",
    "mapped_list = list(filter(lambda x: x*2, original_list))\n",
    "print('New List : ',mapped_list)"
   ]
  },
  {
   "cell_type": "code",
   "execution_count": 4,
   "id": "a34a1783",
   "metadata": {},
   "outputs": [
    {
     "name": "stdout",
     "output_type": "stream",
     "text": [
      "New List :  [2, 4, 6, 8, 10, 12, 14, 16, 18, 20]\n"
     ]
    }
   ],
   "source": [
    "original_list = [1,2,3,4,5,6,7,8,9,10]\n",
    "#double each number in the original list\n",
    "mapped_list = list(map(lambda x: x*2, original_list))\n",
    "print('New List : ',mapped_list)"
   ]
  },
  {
   "cell_type": "code",
   "execution_count": 5,
   "id": "c851ba4f",
   "metadata": {},
   "outputs": [
    {
     "name": "stdout",
     "output_type": "stream",
     "text": [
      "New List :  ['Analytics', 'King', 'South', 'East']\n"
     ]
    }
   ],
   "source": [
    "original_list = ['analytics','king','south','east']\n",
    "#capitalise first letter of each word in original list\n",
    "mapped_list = list(map(lambda x: x[0].upper()+x[1:], original_list))\n",
    "print('New List : ',mapped_list)"
   ]
  },
  {
   "cell_type": "markdown",
   "id": "088ff378",
   "metadata": {},
   "source": [
    "# REDUCE FUNCTION"
   ]
  },
  {
   "cell_type": "markdown",
   "id": "ffd5afb4",
   "metadata": {},
   "source": [
    "# the reduce function in python will always take two parameters"
   ]
  },
  {
   "cell_type": "code",
   "execution_count": 7,
   "id": "991431bd",
   "metadata": {},
   "outputs": [
    {
     "name": "stdout",
     "output_type": "stream",
     "text": [
      "sum of Numbers in the original list is :  45\n"
     ]
    }
   ],
   "source": [
    "from functools import reduce\n",
    "original_list = [1,2,3,4,5,6,7,8,9]\n",
    "#use reduce function to find the sum of numbers in the original list\n",
    "sum_of_list = reduce((lambda x,y : x + y), original_list)\n",
    "print('sum of Numbers in the original list is : ',sum_of_list)"
   ]
  },
  {
   "cell_type": "code",
   "execution_count": 11,
   "id": "4ce1faee",
   "metadata": {},
   "outputs": [
    {
     "name": "stdout",
     "output_type": "stream",
     "text": [
      "Largest Number in the original List is :  2560\n"
     ]
    }
   ],
   "source": [
    "original_list = [110,53,3,424,255,16,42,2560]\n",
    "#use reduce function to find the largest number in the original list\n",
    "largest_number = reduce((lambda x, y: x if (x>y) else y ),original_list)\n",
    "print ('Largest Number in the original List is : ',largest_number)"
   ]
  },
  {
   "cell_type": "code",
   "execution_count": 4,
   "id": "867ebba7",
   "metadata": {},
   "outputs": [
    {
     "name": "stdout",
     "output_type": "stream",
     "text": [
      "character to searchK\n",
      "char found at index 0\n",
      "char found at index 1\n",
      "char found at index 2\n",
      "char found at index 3\n",
      "char found at index 4\n",
      "char found at index 5\n",
      "char found at index 6\n",
      "char found at index 7\n",
      "char found at index 8\n",
      "char found at index 9\n"
     ]
    }
   ],
   "source": [
    " Name = \"Apple King\"\n",
    " key = str(input(\"character to search\"))\n",
    "for i in range(0,len(Name)):\n",
    "    if(key=='K'):\n",
    "        print(\"char found at index\",i)\n",
    "    else:\n",
    "            print(\"not found\")"
   ]
  },
  {
   "cell_type": "code",
   "execution_count": 23,
   "id": "7ade6445",
   "metadata": {},
   "outputs": [
    {
     "name": "stdout",
     "output_type": "stream",
     "text": [
      "enter the string=APPLE\n",
      "apple\n",
      "enter the char to search=A\n",
      "found\n"
     ]
    }
   ],
   "source": [
    "name = str(input(\"enter the string=\")).lower()\n",
    "print(name)\n",
    "\n",
    "searchelem =str(input(\"enter the char to search=\")).lower()\n",
    "\n",
    "for i in range(0,len(name)):\n",
    "    if(name[i]==searchelem):\n",
    "        print(\"found\")\n",
    "        break\n",
    "else:\n",
    "    print(\"not found\")"
   ]
  },
  {
   "cell_type": "code",
   "execution_count": 27,
   "id": "ce33dcc6",
   "metadata": {},
   "outputs": [
    {
     "name": "stdout",
     "output_type": "stream",
     "text": [
      "enter the string=ApplE\n",
      "apple\n",
      "enter the char to search=E\n",
      "found @ index 4\n"
     ]
    }
   ],
   "source": [
    "name = str(input(\"enter the string=\")).lower()\n",
    "\n",
    "searchelem =str(input(\"enter the char to search=\")).lower()\n",
    "\n",
    "for i in range(0,len(name)):\n",
    "    if(name[i]==searchelem):\n",
    "        print(\"found @ index\",i)\n",
    "        break\n",
    "else:\n",
    "    print(\"not found\")"
   ]
  },
  {
   "cell_type": "markdown",
   "id": "c74409df",
   "metadata": {},
   "source": [
    "#       DSA\n",
    "*LINEAR SEARCH"
   ]
  },
  {
   "cell_type": "code",
   "execution_count": 30,
   "id": "f617ebbe",
   "metadata": {},
   "outputs": [],
   "source": [
    "#Method\n",
    "def linearsearch(array,key,sizeofarray):\n",
    "    for i in range(0,sizeofarray): \n",
    "        if(array[i]==key):\n",
    "            return i\n",
    "    return -1"
   ]
  },
  {
   "cell_type": "code",
   "execution_count": 1,
   "id": "498cc75e",
   "metadata": {},
   "outputs": [
    {
     "name": "stdout",
     "output_type": "stream",
     "text": [
      "Enter the size of the array\n",
      "5\n",
      "store the value for list=21\n",
      "store the value for list=22\n",
      "store the value for list=23\n",
      "store the value for list=24\n",
      "store the value for list=25\n",
      "Array values= [21, 22, 23, 24, 25]\n",
      "Enetr the value to be search =23\n"
     ]
    }
   ],
   "source": [
    "#input\n",
    "\n",
    "\n",
    "lst = []\n",
    "array_size = int(input(\"Enter the size of the array\\n\"))\n",
    "\n",
    "for i in range(0,array_size):\n",
    "    ele = int(input(\"store the value for list=\"))\n",
    "    lst.append(ele)\n",
    "print(\"Array values=\",lst)\n",
    "\n",
    "\n",
    "KeyElementToBeSearch = int(input(\"Enetr the value to be search =\"))\n"
   ]
  },
  {
   "cell_type": "code",
   "execution_count": null,
   "id": "0259886a",
   "metadata": {},
   "outputs": [],
   "source": []
  },
  {
   "cell_type": "code",
   "execution_count": null,
   "id": "b292b6a5",
   "metadata": {},
   "outputs": [],
   "source": []
  }
 ],
 "metadata": {
  "kernelspec": {
   "display_name": "Python 3 (ipykernel)",
   "language": "python",
   "name": "python3"
  },
  "language_info": {
   "codemirror_mode": {
    "name": "ipython",
    "version": 3
   },
   "file_extension": ".py",
   "mimetype": "text/x-python",
   "name": "python",
   "nbconvert_exporter": "python",
   "pygments_lexer": "ipython3",
   "version": "3.11.5"
  }
 },
 "nbformat": 4,
 "nbformat_minor": 5
}
