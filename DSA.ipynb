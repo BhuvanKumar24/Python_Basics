{
 "cells": [
  {
   "cell_type": "markdown",
   "id": "b43aeda6",
   "metadata": {},
   "source": [
    "# LinearSearch"
   ]
  },
  {
   "cell_type": "code",
   "execution_count": 6,
   "id": "b8b1ffea",
   "metadata": {},
   "outputs": [],
   "source": [
    "#Method\n",
    "def linearsearch(array,key,sizeofarray):\n",
    "    for i in range(0,sizeofarray): \n",
    "        if(array[i]==key):\n",
    "            return i\n",
    "    return -1"
   ]
  },
  {
   "cell_type": "code",
   "execution_count": 9,
   "id": "11bb696c",
   "metadata": {},
   "outputs": [
    {
     "name": "stdout",
     "output_type": "stream",
     "text": [
      "Enter the size of the array\n",
      "3\n",
      "store the value for list=22\n",
      "store the value for list=33\n",
      "store the value for list=44\n",
      "Array values= [22, 33, 44]\n",
      "Enter the value to be search =33\n",
      "Element found @ 1\n"
     ]
    }
   ],
   "source": [
    "#input\n",
    "\n",
    "\n",
    "lst = []\n",
    "array_size = int(input(\"Enter the size of the array\\n\"))\n",
    "\n",
    "for i in range(0,array_size):\n",
    "    ele = int(input(\"store the value for list=\"))\n",
    "    lst.append(ele)\n",
    "print(\"Array values=\",lst)\n",
    "\n",
    "\n",
    "keyElementToBeSearch = int(input(\"Enter the value to be search =\"))\n",
    "\n",
    "\n",
    "sizeofarray = len(lst)\n",
    "\n",
    "result = linearsearch(lst,keyElementToBeSearch,sizeofarray)\n",
    "\n",
    "if (result == -1):\n",
    "    print(\"Element not found\")\n",
    "else:\n",
    "    print(\"Element found @\",result)\n",
    "\n"
   ]
  },
  {
   "cell_type": "markdown",
   "id": "ac4f14ec",
   "metadata": {},
   "source": [
    "# BINARY SEARCH"
   ]
  },
  {
   "cell_type": "code",
   "execution_count": 12,
   "id": "cbde360e",
   "metadata": {},
   "outputs": [],
   "source": [
    "def binary_search(arr,low,high,x):\n",
    "    #check base case\n",
    "    if high >= low:\n",
    "        mid = (high + low) // 2\n",
    "        #if element is present at the middle itself\n",
    "        if arr[mid] == x:\n",
    "            return mid\n",
    "        # if element is smaller than mid,then it can only\n",
    "        #be present in left subarray\n",
    "        elif arr[mid] > x:\n",
    "            return binary_search(arr,low,mid-1,x)\n",
    "        #else the element can only be present in right subarray\n",
    "        else:\n",
    "            return binary_search(arr,mid+1,high,x)\n",
    "    else:\n",
    "        #element is not present in the array\n",
    "        return -1\n",
    "    \n",
    "    \n"
   ]
  },
  {
   "cell_type": "code",
   "execution_count": 17,
   "id": "2200a5fe",
   "metadata": {},
   "outputs": [
    {
     "name": "stdout",
     "output_type": "stream",
     "text": [
      "element is present at index 4\n"
     ]
    }
   ],
   "source": [
    "#test array\n",
    "arr = [2,3,4,10,40]\n",
    "x = 40temo #key element\n",
    "\n",
    "#function call\n",
    "result = binary_search(arr,0,len(arr)-1,x)\n",
    "\n",
    "if result != -1:\n",
    "    print(\"element is present at index\",str(result))\n",
    "else:\n",
    "    print(\"element is not present in array\")"
   ]
  },
  {
   "cell_type": "markdown",
   "id": "ef0d5032",
   "metadata": {},
   "source": [
    "# BUBBLE SORT"
   ]
  },
  {
   "cell_type": "code",
   "execution_count": 19,
   "id": "02992ba0",
   "metadata": {},
   "outputs": [
    {
     "name": "stdout",
     "output_type": "stream",
     "text": [
      "enter the size of the array=3\n",
      "enter the array elements=55\n",
      "enter the array elements=66\n",
      "enter the array elements=44\n",
      "after sorting\n",
      " [44, 55, 66]\n"
     ]
    }
   ],
   "source": [
    "def bubble_sort(array):\n",
    "    for i in range(0,len(array)-1):\n",
    "        for j in range(0,len(array)-1):\n",
    "            \n",
    "            if (array[j]>array[j+1]):\n",
    "                \n",
    "                temp = array[j]\n",
    "                array[j] = array[j+1]\n",
    "                array[j+1] = temp\n",
    "    return array\n",
    "\n",
    "\n",
    "lst=[]\n",
    "array_size = int(input(\"enter the size of the array=\"))\n",
    "\n",
    "for i in range(0,array_size):\n",
    "    ele =int(input(\"enter the array elements=\"))\n",
    "    lst.append(ele)\n",
    "    \n",
    "print(\"after sorting\\n\",bubble_sort(lst))\n",
    "                "
   ]
  },
  {
   "cell_type": "markdown",
   "id": "6644aa7d",
   "metadata": {},
   "source": [
    "# SELECTION SORT"
   ]
  },
  {
   "cell_type": "code",
   "execution_count": 3,
   "id": "3e102d59",
   "metadata": {},
   "outputs": [
    {
     "name": "stdout",
     "output_type": "stream",
     "text": [
      "enter the size of the array=5\n",
      "enter the array in elements=55\n",
      "enter the array in elements=66\n",
      "enter the array in elements=33\n",
      "enter the array in elements=2\n",
      "enter the array in elements=8\n",
      "After sorting\n",
      " [2, 8, 33, 55, 66]\n"
     ]
    }
   ],
   "source": [
    "def selection_sort(array):\n",
    "    \n",
    "    for i in range(0,len(array)-1):\n",
    "        index = i\n",
    "        \n",
    "        for j in range(i+1, len(array)):\n",
    "            \n",
    "            if array[j] < array[index]:\n",
    "                index = j\n",
    "                \n",
    "        temp = array[index]\n",
    "        array[index] = array[i]\n",
    "        array[i] = temp\n",
    "        \n",
    "    return array\n",
    "\n",
    "\n",
    "lst=[]\n",
    "array_size = int(input(\"enter the size of the array=\"))\n",
    "\n",
    "for i in range(0,array_size):\n",
    "    ele = int(input(\"enter the array in elements=\"))\n",
    "    lst.append(ele)\n",
    "    \n",
    "    \n",
    "print(\"After sorting\\n\",selection_sort(lst))"
   ]
  },
  {
   "cell_type": "code",
   "execution_count": 5,
   "id": "26d98f98",
   "metadata": {},
   "outputs": [
    {
     "name": "stdout",
     "output_type": "stream",
     "text": [
      "enter the size of the array=5\n",
      "enter the array in elements=5\n",
      "enter the array in elements=6\n",
      "enter the array in elements=3\n",
      "enter the array in elements=99\n",
      "enter the array in elements=88\n",
      "desc sorting\n",
      " [99, 88, 6, 5, 3]\n"
     ]
    }
   ],
   "source": [
    "def selection_sortdesc(array):\n",
    "    for i in range(0,len(array)-1):\n",
    "        for j in range(i+1,len(array)):\n",
    "            if array[i] < array[j]:\n",
    "                \n",
    "                temp = array[i]\n",
    "                array[i] = array[j]\n",
    "                array[j] = temp\n",
    "                \n",
    "    return array\n",
    "\n",
    "lst=[]\n",
    "array_size = int(input(\"enter the size of the array=\"))\n",
    "\n",
    "for i in range(0,array_size):\n",
    "    ele = int(input(\"enter the array in elements=\"))\n",
    "    lst.append(ele)\n",
    "    \n",
    "    \n",
    "print(\"desc sorting\\n\",selection_sortdesc(lst))\n"
   ]
  },
  {
   "cell_type": "code",
   "execution_count": 6,
   "id": "1c653849",
   "metadata": {},
   "outputs": [
    {
     "name": "stdout",
     "output_type": "stream",
     "text": [
      "enter the size of the array=5\n",
      "enter the array elements=8\n",
      "enter the array elements=9\n",
      "enter the array elements=66\n",
      "enter the array elements=33\n",
      "enter the array elements=4\n",
      "quick sorting\n",
      " [4, 8, 9, 33, 66]\n"
     ]
    }
   ],
   "source": [
    "def partition(array,low,high):\n",
    "    \n",
    "    pivot = array[high]\n",
    "    i = low -1\n",
    "    \n",
    "    for j in range(low,high):\n",
    "        if (array[j] <= pivot):\n",
    "            \n",
    "            i+=1\n",
    "            temp = array[j]\n",
    "            array[j] = array[i]\n",
    "            array[i] = temp\n",
    "            \n",
    "    temp = array[i+1]\n",
    "    array[i+1] = array[high]\n",
    "    array[high] = temp\n",
    "    return i+1\n",
    "\n",
    "\n",
    "def quick_sort(array,low,high):\n",
    "    \n",
    "    if(low < high):\n",
    "        \n",
    "        pi = partition(array,low,high)\n",
    "        \n",
    "        quick_sort(array,pi+1,high)\n",
    "        quick_sort(array,low,pi-1)\n",
    "        \n",
    "        \n",
    "        \n",
    "lst = []\n",
    "array_size = int(input(\"enter the size of the array=\"))\n",
    "\n",
    "for i in range(0,array_size):\n",
    "    ele =int(input(\"enter the array elements=\"))\n",
    "    lst.append(ele)\n",
    "    \n",
    "low = 0\n",
    "high = len(lst)-1\n",
    "\n",
    "quick_sort(lst,low,high)\n",
    "print(\"quick sorting\\n\",lst)"
   ]
  },
  {
   "cell_type": "code",
   "execution_count": 11,
   "id": "272c9118",
   "metadata": {},
   "outputs": [],
   "source": [
    "from array import*\n",
    "\n",
    "array = array('i',[10,20,30,40,50])"
   ]
  },
  {
   "cell_type": "code",
   "execution_count": 12,
   "id": "2a7923c5",
   "metadata": {},
   "outputs": [
    {
     "name": "stdout",
     "output_type": "stream",
     "text": [
      "10\n",
      "20\n",
      "30\n",
      "40\n",
      "50\n"
     ]
    }
   ],
   "source": [
    "for z in array:\n",
    "    print(z)"
   ]
  },
  {
   "cell_type": "code",
   "execution_count": 13,
   "id": "dc5542d4",
   "metadata": {},
   "outputs": [
    {
     "name": "stdout",
     "output_type": "stream",
     "text": [
      "20\n"
     ]
    }
   ],
   "source": [
    "print(array[1])"
   ]
  },
  {
   "cell_type": "code",
   "execution_count": 14,
   "id": "89583a31",
   "metadata": {},
   "outputs": [],
   "source": [
    "array.insert(1,60)"
   ]
  },
  {
   "cell_type": "code",
   "execution_count": 15,
   "id": "c6c3224b",
   "metadata": {},
   "outputs": [
    {
     "name": "stdout",
     "output_type": "stream",
     "text": [
      "array('i', [10, 60, 20, 30, 40, 50])\n"
     ]
    }
   ],
   "source": [
    "print(array)"
   ]
  },
  {
   "cell_type": "code",
   "execution_count": null,
   "id": "9d87fad3",
   "metadata": {},
   "outputs": [],
   "source": [
    "array.re"
   ]
  }
 ],
 "metadata": {
  "kernelspec": {
   "display_name": "Python 3 (ipykernel)",
   "language": "python",
   "name": "python3"
  },
  "language_info": {
   "codemirror_mode": {
    "name": "ipython",
    "version": 3
   },
   "file_extension": ".py",
   "mimetype": "text/x-python",
   "name": "python",
   "nbconvert_exporter": "python",
   "pygments_lexer": "ipython3",
   "version": "3.11.5"
  }
 },
 "nbformat": 4,
 "nbformat_minor": 5
}
