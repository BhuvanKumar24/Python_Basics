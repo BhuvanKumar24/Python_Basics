{
 "cells": [
  {
   "cell_type": "code",
   "execution_count": 1,
   "id": "a000284e",
   "metadata": {},
   "outputs": [
    {
     "data": {
      "text/plain": [
       "12"
      ]
     },
     "execution_count": 1,
     "metadata": {},
     "output_type": "execute_result"
    }
   ],
   "source": [
    "def add(a,b):\n",
    "    summ = a+b\n",
    "    \n",
    "    return summ\n",
    "add(10,2)"
   ]
  },
  {
   "cell_type": "code",
   "execution_count": 3,
   "id": "93e32a9c",
   "metadata": {},
   "outputs": [
    {
     "name": "stdout",
     "output_type": "stream",
     "text": [
      "<class '__main__.arith'>\n",
      "<class '__main__.arith'>\n"
     ]
    }
   ],
   "source": [
    "class arith:    #class\n",
    "    def summ(self):  #method\n",
    "        val = 5+2\n",
    "        print(val)\n",
    "        \n",
    "    def subb(self):  #method\n",
    "        val = 5-2\n",
    "        print(val)\n",
    "        \n",
    "obj = arith() #object\n",
    "print(type(obj))\n",
    "\n",
    "obj1 = arith()\n",
    "print(type(obj1))"
   ]
  },
  {
   "cell_type": "code",
   "execution_count": 4,
   "id": "902e96d4",
   "metadata": {},
   "outputs": [
    {
     "name": "stdout",
     "output_type": "stream",
     "text": [
      "7\n",
      "3\n"
     ]
    }
   ],
   "source": [
    "arith.summ(obj) #fetching data\n",
    "arith.subb(obj)"
   ]
  },
  {
   "cell_type": "code",
   "execution_count": 5,
   "id": "5d534488",
   "metadata": {},
   "outputs": [
    {
     "name": "stdout",
     "output_type": "stream",
     "text": [
      "7\n",
      "3\n"
     ]
    }
   ],
   "source": [
    "arith.summ(obj1) #fetching data\n",
    "arith.subb(obj1)"
   ]
  },
  {
   "cell_type": "code",
   "execution_count": 6,
   "id": "bb0a8c7d",
   "metadata": {},
   "outputs": [
    {
     "name": "stdout",
     "output_type": "stream",
     "text": [
      "7\n"
     ]
    }
   ],
   "source": [
    "obj.summ()"
   ]
  },
  {
   "cell_type": "code",
   "execution_count": 7,
   "id": "d31b4e01",
   "metadata": {},
   "outputs": [
    {
     "name": "stdout",
     "output_type": "stream",
     "text": [
      "3\n"
     ]
    }
   ],
   "source": [
    "obj.subb()"
   ]
  },
  {
   "cell_type": "code",
   "execution_count": 8,
   "id": "f17d6894",
   "metadata": {},
   "outputs": [
    {
     "name": "stdout",
     "output_type": "stream",
     "text": [
      "<class '__main__.arith'>\n",
      "<class '__main__.arith'>\n"
     ]
    }
   ],
   "source": [
    "class arith:    #class\n",
    "    def summ(self,a,b):  #method\n",
    "        val = a+b\n",
    "        print(val)\n",
    "        \n",
    "    def subb(self,a,b):  #method\n",
    "        val = a-b\n",
    "        print(val)\n",
    "        \n",
    "obj = arith() #object\n",
    "print(type(obj))\n",
    "\n",
    "obj1 = arith()\n",
    "print(type(obj1))"
   ]
  },
  {
   "cell_type": "code",
   "execution_count": 9,
   "id": "7d54808d",
   "metadata": {},
   "outputs": [
    {
     "name": "stdout",
     "output_type": "stream",
     "text": [
      "4\n"
     ]
    }
   ],
   "source": [
    "arith.summ(obj,1,3)"
   ]
  },
  {
   "cell_type": "code",
   "execution_count": 10,
   "id": "4789915b",
   "metadata": {},
   "outputs": [
    {
     "name": "stdout",
     "output_type": "stream",
     "text": [
      "3\n"
     ]
    }
   ],
   "source": [
    "arith.subb(obj,5,2)"
   ]
  },
  {
   "cell_type": "code",
   "execution_count": 11,
   "id": "fcf4fd4e",
   "metadata": {},
   "outputs": [
    {
     "name": "stdout",
     "output_type": "stream",
     "text": [
      "11\n"
     ]
    }
   ],
   "source": [
    "obj1.summ(6,5)"
   ]
  },
  {
   "cell_type": "code",
   "execution_count": 12,
   "id": "d6c388bc",
   "metadata": {},
   "outputs": [
    {
     "name": "stdout",
     "output_type": "stream",
     "text": [
      "4\n"
     ]
    }
   ],
   "source": [
    "obj1.subb(5,1)"
   ]
  },
  {
   "cell_type": "markdown",
   "id": "36222679",
   "metadata": {},
   "source": [
    "# constructor"
   ]
  },
  {
   "cell_type": "code",
   "execution_count": 16,
   "id": "c4acbb51",
   "metadata": {},
   "outputs": [
    {
     "name": "stdout",
     "output_type": "stream",
     "text": [
      "comp config\n",
      "color= black price = 25000\n",
      "comp behavior\n",
      "config is= i5 16gb\n",
      "comp1 config\n",
      "color= white price = 28000\n",
      "comp1 behavior\n",
      "config is= i3 1tb\n"
     ]
    }
   ],
   "source": [
    "class computer:\n",
    "    def __init__(self,cpu,ram,color,price):\n",
    "        self.cpu = cpu\n",
    "        self.ram = ram\n",
    "        self.color = color\n",
    "        self.price = price\n",
    "        \n",
    "        \n",
    "    def behavior(self):\n",
    "        print(\"config is=\",self.cpu,self.ram)\n",
    "        \n",
    "    def config(self):\n",
    "        print(\"color=\",self.color,\"price =\",self.price)\n",
    "        \n",
    "        \n",
    "comp = computer('i5','16gb',\"black\",25000)\n",
    "comp1 = computer('i3','1tb',\"white\",28000)\n",
    "\n",
    "print(\"comp config\")\n",
    "comp.config()\n",
    "print(\"comp behavior\")\n",
    "comp.behavior()\n",
    "print(\"comp1 config\")\n",
    "comp1.config()\n",
    "print(\"comp1 behavior\")\n",
    "comp1.behavior()\n"
   ]
  },
  {
   "cell_type": "code",
   "execution_count": 17,
   "id": "7f583b0c",
   "metadata": {},
   "outputs": [
    {
     "name": "stdout",
     "output_type": "stream",
     "text": [
      "--------------obj1------------\n",
      "21\n",
      "Bhuvan\n",
      "--------------obj2------------\n",
      "21\n",
      "Venom\n"
     ]
    }
   ],
   "source": [
    "class com:\n",
    "    def __init__(self):\n",
    "        self.name=\"Bhuvan\"\n",
    "        self.age=21\n",
    "        \n",
    "obj1 = com()\n",
    "obj2 = com()\n",
    "\n",
    "\n",
    "obj2.name = \"Venom\"\n",
    "print(\"--------------obj1------------\")\n",
    "print(obj1.age)\n",
    "print(obj1.name)\n",
    "print(\"--------------obj2------------\")\n",
    "print(obj2.age)\n",
    "print(obj2.name)"
   ]
  },
  {
   "cell_type": "code",
   "execution_count": 18,
   "id": "a1b08500",
   "metadata": {},
   "outputs": [
    {
     "name": "stdout",
     "output_type": "stream",
     "text": [
      "obj1 and obj2 data same are diff\n"
     ]
    }
   ],
   "source": [
    "if obj1.name == obj2.name:\n",
    "    print(\"obj1 and obj2 data same\")\n",
    "else:\n",
    "    print(\"obj1 and obj2 data same are diff\") "
   ]
  },
  {
   "cell_type": "code",
   "execution_count": 2,
   "id": "811f6ee4",
   "metadata": {},
   "outputs": [],
   "source": [
    "class age_name:\n",
    "    def __init__(self):\n",
    "        self.name =\"Bhuvan\"\n",
    "        self.age =2\n",
    "        \n",
    "    def update_age(self,age):\n",
    "        self.age= age\n",
    "        \n",
    "        \n",
    "    def update_name(self,name):\n",
    "        self.name= name\n",
    "        \n",
    "        \n",
    "        \n",
    "    def compare_age(self,other):\n",
    "    \n",
    "        if (self.age == other.age):\n",
    "            \n",
    "            return \"age same\"\n",
    "        else:\n",
    "            return \"age diff\"\n",
    "        \n",
    "    def compare_name(self,other):\n",
    "    \n",
    "        if (self.name == other.name):\n",
    "            \n",
    "            return \"name same\"\n",
    "        else:\n",
    "            return \"name diff\"\n",
    "        "
   ]
  },
  {
   "cell_type": "code",
   "execution_count": 3,
   "id": "def58b52",
   "metadata": {},
   "outputs": [],
   "source": [
    "#object\n",
    "obj1 = age_name()\n",
    "obj2 = age_name()\n",
    "obj3 = age_name()\n",
    "obj4 = age_name()"
   ]
  },
  {
   "cell_type": "code",
   "execution_count": 4,
   "id": "17123769",
   "metadata": {},
   "outputs": [],
   "source": [
    "#update\n",
    "obj1.update_age(4)\n",
    "obj4.update_age(4)"
   ]
  },
  {
   "cell_type": "code",
   "execution_count": 5,
   "id": "5921ef16",
   "metadata": {},
   "outputs": [],
   "source": [
    "obj2.update_name(\"Venom\")"
   ]
  },
  {
   "cell_type": "code",
   "execution_count": 6,
   "id": "e66a3c59",
   "metadata": {},
   "outputs": [
    {
     "name": "stdout",
     "output_type": "stream",
     "text": [
      "age same\n"
     ]
    }
   ],
   "source": [
    "print(obj2.compare_age(obj3))"
   ]
  },
  {
   "cell_type": "code",
   "execution_count": 7,
   "id": "ae7a323a",
   "metadata": {},
   "outputs": [
    {
     "name": "stdout",
     "output_type": "stream",
     "text": [
      "2\n",
      "2\n"
     ]
    }
   ],
   "source": [
    "print(obj2.age)\n",
    "print(obj3.age)\n"
   ]
  },
  {
   "cell_type": "code",
   "execution_count": 8,
   "id": "f9822ed8",
   "metadata": {},
   "outputs": [
    {
     "name": "stdout",
     "output_type": "stream",
     "text": [
      "name diff\n"
     ]
    }
   ],
   "source": [
    "print(obj2.compare_name(obj3))"
   ]
  },
  {
   "cell_type": "code",
   "execution_count": 33,
   "id": "537ece93",
   "metadata": {},
   "outputs": [],
   "source": [
    "class car:\n",
    "    wheels = 4\n",
    "    \n",
    "    def __init__(self):\n",
    "        self.mile=10\n",
    "        self.company=\"audi\"\n",
    "        \n",
    "    def fetch_car_details(self):\n",
    "        return \"car mile=\",self.mile,\" \",\"car company=\",self.company\n",
    "        \n",
    "    def update_car_details(self,mile,company):\n",
    "        \n",
    "        self.mile = mile\n",
    "        self.company = company\n",
    "        \n",
    "        \n",
    "obj = car()\n",
    "obj1 = car()"
   ]
  },
  {
   "cell_type": "code",
   "execution_count": 34,
   "id": "791969d7",
   "metadata": {},
   "outputs": [],
   "source": [
    "car.wheels = 8"
   ]
  },
  {
   "cell_type": "code",
   "execution_count": 35,
   "id": "44c1187c",
   "metadata": {},
   "outputs": [
    {
     "name": "stdout",
     "output_type": "stream",
     "text": [
      "8\n"
     ]
    }
   ],
   "source": [
    "print(car.wheels)"
   ]
  },
  {
   "cell_type": "code",
   "execution_count": 36,
   "id": "7b1b6cef",
   "metadata": {},
   "outputs": [],
   "source": [
    "obj.update_car_details(20,'BMW')"
   ]
  },
  {
   "cell_type": "code",
   "execution_count": 37,
   "id": "b128a215",
   "metadata": {},
   "outputs": [
    {
     "name": "stdout",
     "output_type": "stream",
     "text": [
      "20\n"
     ]
    }
   ],
   "source": [
    "print(obj.mile)"
   ]
  },
  {
   "cell_type": "code",
   "execution_count": 38,
   "id": "c4db3d3f",
   "metadata": {},
   "outputs": [
    {
     "name": "stdout",
     "output_type": "stream",
     "text": [
      "BMW\n"
     ]
    }
   ],
   "source": [
    "print(obj.company)"
   ]
  },
  {
   "cell_type": "code",
   "execution_count": 39,
   "id": "512c550c",
   "metadata": {},
   "outputs": [
    {
     "data": {
      "text/plain": [
       "('car mile=', 20, ' ', 'car company=', 'BMW')"
      ]
     },
     "execution_count": 39,
     "metadata": {},
     "output_type": "execute_result"
    }
   ],
   "source": [
    "obj.fetch_car_details()"
   ]
  },
  {
   "cell_type": "code",
   "execution_count": 44,
   "id": "ed75cb11",
   "metadata": {},
   "outputs": [],
   "source": [
    "class Student : #outer class\n",
    "    \n",
    "    def __init__(self,name,rollno):\n",
    "        self.name = name\n",
    "        self.rollno = rollno\n",
    "        self.lap = self.Laptop()\n",
    "        \n",
    "        \n",
    "    def show(self):\n",
    "        print(self.name,self.rollno)\n",
    "        \n",
    "        \n",
    "    class Laptop: #inner class\n",
    "        \n",
    "        def __init__(self):\n",
    "            self.brand = \"HP\"\n",
    "            self.cpu = 'i5'\n",
    "            self.ram = 8\n",
    "            \n",
    "        def show(self):\n",
    "            return self.brand, self.cpu, self.ram\n",
    "        \n"
   ]
  },
  {
   "cell_type": "code",
   "execution_count": 47,
   "id": "97c1c7c0",
   "metadata": {},
   "outputs": [
    {
     "name": "stdout",
     "output_type": "stream",
     "text": [
      "ABC 2\n"
     ]
    }
   ],
   "source": [
    "s1 = Student(\"ABC\",2)\n",
    "s2 = Student(\"XYZ\",3)\n",
    "\n",
    "\n",
    "s1.show()\n",
    "\n"
   ]
  },
  {
   "cell_type": "code",
   "execution_count": 49,
   "id": "d7eb114b",
   "metadata": {},
   "outputs": [
    {
     "name": "stdout",
     "output_type": "stream",
     "text": [
      "('HP', 'i5', 8)\n"
     ]
    }
   ],
   "source": [
    "#you can create object of inner class inside the outer class\n",
    "\n",
    "#or\n",
    "#you can create object of inner class outside the outer class provided\n",
    "\n",
    "\n",
    "lap1 = Student.Laptop()\n",
    "print(lap1.show())"
   ]
  },
  {
   "cell_type": "code",
   "execution_count": 51,
   "id": "6a567823",
   "metadata": {},
   "outputs": [],
   "source": [
    "lap2 = s2.lap"
   ]
  },
  {
   "cell_type": "code",
   "execution_count": 53,
   "id": "e47afac3",
   "metadata": {},
   "outputs": [
    {
     "name": "stdout",
     "output_type": "stream",
     "text": [
      "('HP', 'i5', 8)\n"
     ]
    }
   ],
   "source": [
    "print(lap2.show())"
   ]
  },
  {
   "cell_type": "code",
   "execution_count": 1,
   "id": "d5ddde72",
   "metadata": {},
   "outputs": [],
   "source": [
    "# private ACCESS MODIFIER\n",
    "\n",
    "class geek:\n",
    "    __name = None\n",
    "    __roll = None\n",
    "    __branch = None\n",
    "    \n",
    "    \n",
    "    def __init__(self,name,roll,branch):\n",
    "        self.__name = name\n",
    "        self.__roll = roll\n",
    "        self.__branch = branch\n",
    "        \n",
    "    def __displayDetails(self):\n",
    "        print(\"Name=\",self.__name,\"\",\"Roll=\",self.__roll,\"\",\"Branch=\",self.__branch)\n",
    "        \n",
    "        \n",
    "    def accessPrivateMemberFunction(self):\n",
    "        \n",
    "        self.__displayDetails()"
   ]
  },
  {
   "cell_type": "code",
   "execution_count": 2,
   "id": "3a172947",
   "metadata": {},
   "outputs": [
    {
     "name": "stdout",
     "output_type": "stream",
     "text": [
      "Name= XYZ  Roll= 123  Branch= ECE\n"
     ]
    }
   ],
   "source": [
    "obj= geek(\"XYZ\",123,\"ECE\")\n",
    "\n",
    "obj.accessPrivateMemberFunction()"
   ]
  },
  {
   "cell_type": "code",
   "execution_count": 3,
   "id": "c553903d",
   "metadata": {},
   "outputs": [
    {
     "name": "stdout",
     "output_type": "stream",
     "text": [
      "Welcome to Educadd\n"
     ]
    }
   ],
   "source": [
    "#Protected access modifier\n",
    "\n",
    "class prot:\n",
    "    \n",
    "    def _display(self):\n",
    "        \n",
    "        print(\"Welcome to Educadd\")\n",
    "        \n",
    "bhu = prot()\n",
    "\n",
    "bhu._display()"
   ]
  },
  {
   "cell_type": "code",
   "execution_count": 1,
   "id": "545432ed",
   "metadata": {},
   "outputs": [],
   "source": [
    "class student:\n",
    "    \n",
    "    \n",
    "    _name = None\n",
    "    _roll = None\n",
    "    _branch = None\n",
    "    \n",
    "    \n",
    "    def __init__(self,name,roll,branch):\n",
    "        \n",
    "        self._name = name\n",
    "        self._roll = roll\n",
    "        self._branch = branch\n",
    "        \n",
    "    def _displayStudentDetails(self):\n",
    "        print(\"Roll=\",self._roll,\"\",\"Branch=\",self._branch)"
   ]
  },
  {
   "cell_type": "code",
   "execution_count": 2,
   "id": "5fa9b410",
   "metadata": {},
   "outputs": [],
   "source": [
    "class student2(student):\n",
    "    \n",
    "    \n",
    "    def __init__(self,name,roll,branch):\n",
    "        student.__init__(self,name,roll,branch)\n",
    "        \n",
    "        \n",
    "    def DisplayDetails(self):\n",
    "        print(\"Name=\",self._name)\n",
    "        self._displayStudentDetails()\n",
    "    "
   ]
  },
  {
   "cell_type": "code",
   "execution_count": 3,
   "id": "65a0a460",
   "metadata": {},
   "outputs": [
    {
     "name": "stdout",
     "output_type": "stream",
     "text": [
      "Name= abc\n",
      "Roll= 123  Branch= ECE\n"
     ]
    }
   ],
   "source": [
    "obj = student2(\"abc\",123,\"ECE\")\n",
    "obj.DisplayDetails()"
   ]
  },
  {
   "cell_type": "code",
   "execution_count": 4,
   "id": "192581d3",
   "metadata": {},
   "outputs": [],
   "source": [
    "#public access specifier\n",
    "\n",
    "class publiclass:\n",
    "    \n",
    "    def __init__(self,publics):\n",
    "        self.publics = publics\n",
    "    def display(self):\n",
    "        print(self.publics)\n",
    "        "
   ]
  },
  {
   "cell_type": "code",
   "execution_count": 5,
   "id": "2bd862f2",
   "metadata": {},
   "outputs": [
    {
     "name": "stdout",
     "output_type": "stream",
     "text": [
      "Public access modifier\n",
      "None\n"
     ]
    }
   ],
   "source": [
    "obj1 = publiclass(\"Public access modifier\")\n",
    "print(obj1.display())"
   ]
  },
  {
   "cell_type": "markdown",
   "id": "ec459e44",
   "metadata": {},
   "source": [
    "# Inheritance"
   ]
  },
  {
   "cell_type": "code",
   "execution_count": 10,
   "id": "8df456ec",
   "metadata": {},
   "outputs": [
    {
     "name": "stdout",
     "output_type": "stream",
     "text": [
      "This is an Employee\n",
      "This is an programmer\n"
     ]
    }
   ],
   "source": [
    "class Employee:\n",
    "    company = \"Apple\"\n",
    "    \n",
    "    def showDetails(self):\n",
    "        print(\"This is an Employee\")\n",
    "        \n",
    "        \n",
    "class Programmer(Employee):\n",
    "    language = \"Python\"\n",
    "    #company = \"Google\"\n",
    "    \n",
    "    def getlanguage(self):\n",
    "        print(f\"The language is {self.language}\")\n",
    "        \n",
    "    def showDetails(self):\n",
    "        print(\"This is an programmer\")\n",
    "        \n",
    "        \n",
    "e = Employee()\n",
    "e.showDetails()\n",
    "p = Programmer()\n",
    "p.showDetails()"
   ]
  },
  {
   "cell_type": "markdown",
   "id": "507b6c21",
   "metadata": {},
   "source": [
    "# Multiple inheritance"
   ]
  },
  {
   "cell_type": "code",
   "execution_count": 14,
   "id": "9e08ce24",
   "metadata": {},
   "outputs": [
    {
     "name": "stdout",
     "output_type": "stream",
     "text": [
      "Visa\n",
      "120\n",
      "4\n",
      "Rohit\n"
     ]
    }
   ],
   "source": [
    "class Freelancer:\n",
    "    company = \"Fiverr\"\n",
    "    level = 3\n",
    "    def upgradelevel(self):\n",
    "        self.level = self.level + 1\n",
    "        \n",
    "class Employee:\n",
    "    company = \"Visa\"\n",
    "    eCode  = 120\n",
    "    \n",
    "class Programmer(Employee,Freelancer):\n",
    "    name = \"Rohit\"\n",
    "    \n",
    "p = Programmer()\n",
    "p.upgradelevel()\n",
    "print(p.company)\n",
    "print(p.eCode)\n",
    "print(p.level)\n",
    "print(p.name)"
   ]
  },
  {
   "cell_type": "code",
   "execution_count": 1,
   "id": "4e7b9ae9",
   "metadata": {},
   "outputs": [],
   "source": [
    "class person:\n",
    "    country = \"India\"\n",
    "    def takeBreath(self):\n",
    "        print(\"I am breathing....\")"
   ]
  },
  {
   "cell_type": "code",
   "execution_count": 5,
   "id": "5cff5dbf",
   "metadata": {},
   "outputs": [],
   "source": [
    "class Employee(person):\n",
    "    company = \"Honda\"\n",
    "    salary = 10000\n",
    "    \n",
    "    def getSalary(self):\n",
    "        print(f\"Salary is {self.salary}\")\n",
    "    def takeBreath(self):\n",
    "        print(\"I am an Employee so I am Luckily breathing..\")"
   ]
  },
  {
   "cell_type": "code",
   "execution_count": 6,
   "id": "73a0edb3",
   "metadata": {},
   "outputs": [],
   "source": [
    "class Programmer(Employee):\n",
    "    company = \"Fiverr\"\n",
    "    def getSalary(self):\n",
    "        print(f\"salary to programmers {self.salary}\")\n",
    "        def takeBreath(self):\n",
    "            print(\"I am a Programmer so i am breathing++...\")"
   ]
  },
  {
   "cell_type": "code",
   "execution_count": 8,
   "id": "c4ecc800",
   "metadata": {},
   "outputs": [
    {
     "name": "stdout",
     "output_type": "stream",
     "text": [
      "India\n",
      "I am breathing....\n"
     ]
    }
   ],
   "source": [
    "obj1 = person()\n",
    "print(obj1.country)\n",
    "obj1.takeBreath()"
   ]
  },
  {
   "cell_type": "code",
   "execution_count": 9,
   "id": "c98d6210",
   "metadata": {},
   "outputs": [
    {
     "name": "stdout",
     "output_type": "stream",
     "text": [
      "Honda\n",
      "India\n",
      "Salary is 10000\n",
      "I am an Employee so I am Luckily breathing..\n"
     ]
    }
   ],
   "source": [
    "obj2 = Employee()\n",
    "print(obj2.company)\n",
    "print(obj2.country)\n",
    "obj2.getSalary()\n",
    "obj2.takeBreath()"
   ]
  },
  {
   "cell_type": "code",
   "execution_count": 10,
   "id": "9694c7a2",
   "metadata": {},
   "outputs": [
    {
     "name": "stdout",
     "output_type": "stream",
     "text": [
      "Fiverr\n",
      "India\n",
      "10000\n",
      "salary to programmers 10000\n",
      "I am an Employee so I am Luckily breathing..\n"
     ]
    }
   ],
   "source": [
    "obj3 = Programmer()\n",
    "print(obj3.company)\n",
    "print(obj3.country)\n",
    "print(obj3.salary)\n",
    "obj3.getSalary()\n",
    "obj3.takeBreath()"
   ]
  },
  {
   "cell_type": "code",
   "execution_count": 11,
   "id": "b92f6a28",
   "metadata": {},
   "outputs": [],
   "source": [
    "class Person:\n",
    "    country = \"India\"\n",
    "    \n",
    "    def __init__(self):\n",
    "        print(\"Initializing Person..\\n\")\n",
    "        \n",
    "    def takeBreath(self):\n",
    "        print(\"I am Breathing...\")"
   ]
  },
  {
   "cell_type": "code",
   "execution_count": 12,
   "id": "be9d0ef3",
   "metadata": {},
   "outputs": [],
   "source": [
    "class Employee(Person):\n",
    "    company = \"Honda\"\n",
    "    \n",
    "    def __init__(self):\n",
    "        super().__init__()\n",
    "        print(\"Initializing Employee....\\n\")\n",
    "        self.salary = 100000\n",
    "        \n",
    "    def getSalary(self):\n",
    "        print(f\"Salary is {self.salary}\")\n",
    "        \n",
    "    def takeBreath(self):\n",
    "        super().takeBreath()\n",
    "        print(\"I am  an Employee so i am Luckily breathing...\")"
   ]
  },
  {
   "cell_type": "code",
   "execution_count": 18,
   "id": "be5d61ef",
   "metadata": {},
   "outputs": [],
   "source": [
    "class Programmer(Employee):\n",
    "    company = \"Fiverr\"\n",
    "    def __init__(self):\n",
    "        print(\"Initializing Programmer....\\n\")\n",
    "        self.salary = 10000\n",
    "        \n",
    "    def getSalary(self):\n",
    "        print(f\"salary to programmers {self.salary}\")\n",
    "        \n",
    "        def takeBreath(self):\n",
    "            super().takeBreath()\n",
    "            print(\"I am a Programmer so i am breathing++...\") "
   ]
  },
  {
   "cell_type": "code",
   "execution_count": 19,
   "id": "bd3a9957",
   "metadata": {},
   "outputs": [
    {
     "name": "stdout",
     "output_type": "stream",
     "text": [
      "Initializing Programmer....\n",
      "\n",
      "Fiverr\n",
      "India\n",
      "salary to programmers 10000\n",
      "I am Breathing...\n",
      "I am  an Employee so i am Luckily breathing...\n"
     ]
    }
   ],
   "source": [
    "obj3 = Programmer()\n",
    "print(obj3.company)\n",
    "print(obj3.country)\n",
    "obj3.getSalary()\n",
    "obj3.takeBreath()"
   ]
  },
  {
   "cell_type": "code",
   "execution_count": 17,
   "id": "bbb5e8d9",
   "metadata": {},
   "outputs": [
    {
     "name": "stdout",
     "output_type": "stream",
     "text": [
      "Initializing Person..\n",
      "\n",
      "Initializing Employee....\n",
      "\n",
      "Honda\n",
      "India\n",
      "Salary is 100000\n",
      "I am Breathing...\n",
      "I am  an Employee so i am Luckily breathing...\n"
     ]
    }
   ],
   "source": [
    "obj2 = Employee()\n",
    "print(obj2.company)\n",
    "print(obj2.country)\n",
    "obj2.getSalary()\n",
    "obj2.takeBreath()"
   ]
  },
  {
   "cell_type": "code",
   "execution_count": 1,
   "id": "5c9fa874",
   "metadata": {},
   "outputs": [
    {
     "name": "stdout",
     "output_type": "stream",
     "text": [
      "500\n",
      "1000\n",
      "1000\n"
     ]
    }
   ],
   "source": [
    "#class method \n",
    "\n",
    "class Employee:\n",
    "    company = \"Puma\"\n",
    "    salary = 500\n",
    "    location = \"Bengaluru\"\n",
    "    \n",
    "    \n",
    "    @classmethod\n",
    "    def changeSalary(cls, sal):\n",
    "        cls.salary = sal\n",
    "        \n",
    "e = Employee()\n",
    "print(e.salary)\n",
    "e.changeSalary(1000)\n",
    "print(e.salary)\n",
    "print(Employee.salary)"
   ]
  },
  {
   "cell_type": "code",
   "execution_count": 9,
   "id": "3d442171",
   "metadata": {},
   "outputs": [
    {
     "name": "stdout",
     "output_type": "stream",
     "text": [
      "56\n"
     ]
    }
   ],
   "source": [
    "class student:\n",
    "    \n",
    "    def __init__(self,name,Age,dept,roll):\n",
    "        self.name = \"BHUVAN\"\n",
    "        self.Age = 21\n",
    "        self.dept = \"ECE\"\n",
    "        self.roll = 73\n",
    "        \n",
    "        \n",
    "    def setName(self,name1):\n",
    "        self.name = name1\n",
    "        \n",
    "    def getName(self):\n",
    "        return self.name\n",
    "    \n",
    "    def setAge(self,Age1):\n",
    "        self.Age = Age1\n",
    "        \n",
    "    def getAge(self):\n",
    "        return self.Age\n",
    "    \n",
    "    def setDept(self,dept1):\n",
    "        self.dept = dept1\n",
    "        \n",
    "    def getDept(self):\n",
    "        return self.dept\n",
    "    \n",
    "    def setRoll(self,roll1):\n",
    "        self.roll = roll1\n",
    "        \n",
    "    def getRoll(self):\n",
    "        return self.roll\n",
    "    \n",
    "obj = student(\"venom\",21,\"ECE\",45)\n",
    "obj.setAge(56)\n",
    "print(obj.getAge())\n"
   ]
  },
  {
   "cell_type": "code",
   "execution_count": 11,
   "id": "c606fe77",
   "metadata": {},
   "outputs": [
    {
     "name": "stdout",
     "output_type": "stream",
     "text": [
      "Lets add\n",
      "10\n",
      "Lets multiply\n",
      "24\n"
     ]
    }
   ],
   "source": [
    "#operator overloading\n",
    "class Number:\n",
    "    def __init__(self, num):\n",
    "        self.num = num\n",
    "        \n",
    "    def __add__(self, num2):\n",
    "        print(\"Lets add\")\n",
    "        return self.num + num2.num\n",
    "    \n",
    "    def __mul__(self, num2):\n",
    "        print(\"Lets multiply\")\n",
    "        return self.num * num2.num\n",
    "    \n",
    "n1 = Number(4)\n",
    "n2 = Number(6)\n",
    "print(n1.__add__(n2))\n",
    "print(n2.__mul__(n1))"
   ]
  },
  {
   "cell_type": "code",
   "execution_count": 12,
   "id": "3961dd67",
   "metadata": {},
   "outputs": [],
   "source": [
    "#hirarchieal\n",
    "\n",
    "class Teacher:\n",
    "    def takeAttendance(self):\n",
    "        print(\"Teacher is taking attendance.\")\n",
    "    "
   ]
  },
  {
   "cell_type": "code",
   "execution_count": 13,
   "id": "355b9230",
   "metadata": {},
   "outputs": [],
   "source": [
    "class PythonTeacher(Teacher):\n",
    "    def teach(self):\n",
    "        print(\"Pyton teacher is teaching python.\")"
   ]
  },
  {
   "cell_type": "code",
   "execution_count": 14,
   "id": "5f2b861e",
   "metadata": {},
   "outputs": [],
   "source": [
    "class JavaTeacher(Teacher):\n",
    "    def teach(self):\n",
    "        print(\"Java teacher is teaching java.\")"
   ]
  },
  {
   "cell_type": "code",
   "execution_count": 15,
   "id": "cffec1da",
   "metadata": {},
   "outputs": [
    {
     "name": "stdout",
     "output_type": "stream",
     "text": [
      "Teacher is taking attendance.\n"
     ]
    }
   ],
   "source": [
    "objTeacher = Teacher()\n",
    "objTeacher.takeAttendance()"
   ]
  },
  {
   "cell_type": "code",
   "execution_count": 16,
   "id": "92e6cadc",
   "metadata": {},
   "outputs": [
    {
     "name": "stdout",
     "output_type": "stream",
     "text": [
      "Teacher is taking attendance.\n",
      "Pyton teacher is teaching python.\n"
     ]
    }
   ],
   "source": [
    "objPython = PythonTeacher()\n",
    "objPython.takeAttendance()\n",
    "objPython.teach()"
   ]
  },
  {
   "cell_type": "code",
   "execution_count": 17,
   "id": "71c3afd8",
   "metadata": {},
   "outputs": [
    {
     "name": "stdout",
     "output_type": "stream",
     "text": [
      "Teacher is taking attendance.\n",
      "Java teacher is teaching java.\n"
     ]
    }
   ],
   "source": [
    "objJava = JavaTeacher()\n",
    "objJava.takeAttendance()\n",
    "objJava.teach()"
   ]
  },
  {
   "cell_type": "code",
   "execution_count": 1,
   "id": "3b45a5ea",
   "metadata": {},
   "outputs": [],
   "source": [
    "#Hybrid inheritance\n",
    "\n",
    "class School:\n",
    "    def func1(self):\n",
    "        print(\"This Function is in school...\")"
   ]
  },
  {
   "cell_type": "code",
   "execution_count": 2,
   "id": "ff8b31df",
   "metadata": {},
   "outputs": [],
   "source": [
    "class Student1(School):\n",
    "    def func2(self):\n",
    "        print(\"This Function is in student 1...\")"
   ]
  },
  {
   "cell_type": "code",
   "execution_count": 3,
   "id": "743e1342",
   "metadata": {},
   "outputs": [],
   "source": [
    "class Student2(School):\n",
    "    def func3(self):\n",
    "        print(\"This Function is in student 2...\")"
   ]
  },
  {
   "cell_type": "code",
   "execution_count": 4,
   "id": "28260420",
   "metadata": {},
   "outputs": [],
   "source": [
    "class Student3(Student1,School):\n",
    "    def func4(self):\n",
    "        print(\"This Function is in student 3...\")"
   ]
  },
  {
   "cell_type": "code",
   "execution_count": 7,
   "id": "e1fc05d7",
   "metadata": {},
   "outputs": [
    {
     "name": "stdout",
     "output_type": "stream",
     "text": [
      "This Function is in school...\n"
     ]
    }
   ],
   "source": [
    "obj1 = School()\n",
    "obj1.func1()"
   ]
  },
  {
   "cell_type": "code",
   "execution_count": 8,
   "id": "14572a97",
   "metadata": {},
   "outputs": [
    {
     "name": "stdout",
     "output_type": "stream",
     "text": [
      "This Function is in school...\n",
      "This Function is in student1...\n"
     ]
    }
   ],
   "source": [
    "obj2 = Student1()\n",
    "obj2.func1()\n",
    "obj2.func2()"
   ]
  },
  {
   "cell_type": "code",
   "execution_count": 10,
   "id": "580c7238",
   "metadata": {},
   "outputs": [
    {
     "name": "stdout",
     "output_type": "stream",
     "text": [
      "This Function is in school...\n",
      "This Function is in student2...\n"
     ]
    }
   ],
   "source": [
    "obj3 = Student2()\n",
    "obj3.func1()\n",
    "obj3.func3()"
   ]
  },
  {
   "cell_type": "code",
   "execution_count": 11,
   "id": "41443e9e",
   "metadata": {},
   "outputs": [
    {
     "name": "stdout",
     "output_type": "stream",
     "text": [
      "This Function is in school...\n",
      "This Function is in student1...\n",
      "This Function is in student 3...\n"
     ]
    }
   ],
   "source": [
    "obj4 = Student3()\n",
    "obj4.func1()\n",
    "obj4.func2()\n",
    "obj4.func4()"
   ]
  },
  {
   "cell_type": "markdown",
   "id": "78824e2c",
   "metadata": {},
   "source": [
    "# Polymorphism"
   ]
  },
  {
   "cell_type": "code",
   "execution_count": 14,
   "id": "45474f4e",
   "metadata": {},
   "outputs": [
    {
     "name": "stdout",
     "output_type": "stream",
     "text": [
      "Bird\n",
      "black\n",
      "Fruit\n",
      "Red\n"
     ]
    }
   ],
   "source": [
    "class Crow():\n",
    "    def type(self):\n",
    "        print(\"Bird\")\n",
    "    def color(self):\n",
    "        print(\"black\")\n",
    "        \n",
    "class Apple():\n",
    "    def type(self):\n",
    "        print(\"Fruit\")\n",
    "    def color(self):\n",
    "        print(\"Red\")\n",
    "        \n",
    "def func(obj):\n",
    "    obj.type()\n",
    "    obj.color()\n",
    "    \n",
    "obj_crow = Crow()\n",
    "obj_apple = Apple()\n",
    "\n",
    "func(obj_crow)\n",
    "func(obj_apple)"
   ]
  },
  {
   "cell_type": "markdown",
   "id": "5e977f4d",
   "metadata": {},
   "source": [
    "# Method OverRiding"
   ]
  },
  {
   "cell_type": "code",
   "execution_count": 16,
   "id": "6afc5a9a",
   "metadata": {},
   "outputs": [
    {
     "name": "stdout",
     "output_type": "stream",
     "text": [
      "Inside parent class\n",
      "Inside child class\n"
     ]
    }
   ],
   "source": [
    "class Parent:\n",
    "    def display(self):\n",
    "        print(\"Inside parent class\")\n",
    "        \n",
    "class Child(Parent):\n",
    "    def display(self):\n",
    "        print(\"Inside child class\")\n",
    "        \n",
    "def func(obj):\n",
    "    obj.display()\n",
    "    \n",
    "    \n",
    "obj_parent = Parent()\n",
    "obj_child = Child()\n",
    "\n",
    "func(obj_parent)\n",
    "func(obj_child)"
   ]
  },
  {
   "cell_type": "code",
   "execution_count": 17,
   "id": "e58c06ed",
   "metadata": {},
   "outputs": [],
   "source": [
    "#Method OverLoading\n",
    "\n",
    "class Calculator:\n",
    "    def calc(self,a,b):\n",
    "        print(a+b)\n",
    "    def calc(self,a,b,c):\n",
    "        print(a+b+c)\n",
    "    def calc(self,a,b,c,d):\n",
    "        print(a+b+c+d)\n",
    "c= Calculator()"
   ]
  },
  {
   "cell_type": "code",
   "execution_count": 18,
   "id": "9ffec86f",
   "metadata": {},
   "outputs": [
    {
     "name": "stdout",
     "output_type": "stream",
     "text": [
      "110\n"
     ]
    }
   ],
   "source": [
    "c.calc(10,20,30,50)"
   ]
  },
  {
   "cell_type": "code",
   "execution_count": 21,
   "id": "33ab7b84",
   "metadata": {},
   "outputs": [
    {
     "name": "stdout",
     "output_type": "stream",
     "text": [
      "30\n",
      "Bhuvan v\n",
      "58.088\n"
     ]
    }
   ],
   "source": [
    "#Operator overloading\n",
    "\n",
    "class calc:\n",
    "    def  add(self,a,b):\n",
    "        print(a+b)\n",
    "c=calc()\n",
    "c.add(10,20)\n",
    "c.add(\"Bhuvan \",\"v\")\n",
    "c.add(1.234,56.854)"
   ]
  },
  {
   "cell_type": "markdown",
   "id": "0e2daed4",
   "metadata": {},
   "source": [
    "# Encapsulation"
   ]
  },
  {
   "cell_type": "code",
   "execution_count": 22,
   "id": "2721770d",
   "metadata": {},
   "outputs": [
    {
     "name": "stdout",
     "output_type": "stream",
     "text": [
      "Name:  Bhuvan salary:  90000\n",
      "Bhuvan is working on  python_project\n"
     ]
    }
   ],
   "source": [
    "class Employee:\n",
    "    def __init__(self,name,salary,project):\n",
    "        self.name = name\n",
    "        self.salary = salary\n",
    "        self.project = project\n",
    "    def show(self):\n",
    "        print(\"Name: \", self.name,'salary: ',self.salary)\n",
    "    def work(self):\n",
    "        print(self.name, 'is working on ',self.project)\n",
    "        \n",
    "emp = Employee('Bhuvan',90000,'python_project')\n",
    "emp.show()\n",
    "emp.work()"
   ]
  },
  {
   "cell_type": "markdown",
   "id": "8e8a1d4c",
   "metadata": {},
   "source": [
    "# Abstract"
   ]
  },
  {
   "cell_type": "code",
   "execution_count": 9,
   "id": "70ed4879",
   "metadata": {},
   "outputs": [],
   "source": [
    "from abc import ABC ,abstractmethod\n",
    "\n",
    "class computer(ABC):\n",
    "    \n",
    "    @abstractmethod\n",
    "    def process(self):\n",
    "        pass\n",
    "    \n",
    "class laptop(computer):\n",
    "    \n",
    "    def process(self):\n",
    "        print(\"Its running\")"
   ]
  },
  {
   "cell_type": "code",
   "execution_count": 10,
   "id": "41a47100",
   "metadata": {},
   "outputs": [
    {
     "name": "stdout",
     "output_type": "stream",
     "text": [
      "Its running\n"
     ]
    }
   ],
   "source": [
    "com1 = laptop()\n",
    "com1.process()\n"
   ]
  },
  {
   "cell_type": "code",
   "execution_count": 11,
   "id": "28c99d27",
   "metadata": {},
   "outputs": [],
   "source": [
    "from abc import ABC ,abstractmethod\n",
    "\n",
    "class oper():\n",
    "    \n",
    "    def add(self,a,b):\n",
    "        add = a + b\n",
    "        return add\n",
    "    \n",
    "    def sub(self,a,b):\n",
    "        sub = a - b\n",
    "        return sub\n",
    "    \n",
    "    @abstractmethod\n",
    "    def mul(self):\n",
    "        pass\n",
    "    \n",
    "    @abstractmethod\n",
    "    def div(self):\n",
    "        pass\n",
    "    \n",
    "    \n",
    "class cal(oper):\n",
    "    \n",
    "    def add(self,a,b,c):\n",
    "        add = a + b +c\n",
    "        return add\n",
    "    \n",
    "    def sub(self,a,b,c):\n",
    "        sub = a - b -c\n",
    "        return sub\n",
    "    \n",
    "    def mul(self,a,b):\n",
    "        mul = a*b\n",
    "        return mul\n",
    "    \n",
    "    def div(self,a,b):\n",
    "        div = a/b\n",
    "        return div\n",
    "      \n",
    "    \n",
    "    "
   ]
  },
  {
   "cell_type": "code",
   "execution_count": 12,
   "id": "5258d059",
   "metadata": {},
   "outputs": [],
   "source": [
    "obj1 = oper()"
   ]
  },
  {
   "cell_type": "code",
   "execution_count": 16,
   "id": "489e707e",
   "metadata": {},
   "outputs": [
    {
     "name": "stdout",
     "output_type": "stream",
     "text": [
      "9\n",
      "-5\n",
      "6\n",
      "4.0\n"
     ]
    }
   ],
   "source": [
    "obj = cal()\n",
    "print(obj.add(2,3,4))\n",
    "print(obj.sub(2,3,4))\n",
    "print(obj.mul(2,3))\n",
    "print(obj.div(8,2))"
   ]
  },
  {
   "cell_type": "code",
   "execution_count": null,
   "id": "f9820220",
   "metadata": {},
   "outputs": [],
   "source": []
  }
 ],
 "metadata": {
  "kernelspec": {
   "display_name": "Python 3 (ipykernel)",
   "language": "python",
   "name": "python3"
  },
  "language_info": {
   "codemirror_mode": {
    "name": "ipython",
    "version": 3
   },
   "file_extension": ".py",
   "mimetype": "text/x-python",
   "name": "python",
   "nbconvert_exporter": "python",
   "pygments_lexer": "ipython3",
   "version": "3.11.5"
  }
 },
 "nbformat": 4,
 "nbformat_minor": 5
}
