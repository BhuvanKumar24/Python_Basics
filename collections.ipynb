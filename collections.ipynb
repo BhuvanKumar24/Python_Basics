{
 "cells": [
  {
   "cell_type": "code",
   "execution_count": 1,
   "id": "e9a21ed3",
   "metadata": {},
   "outputs": [],
   "source": [
    "#lib \n",
    "from collections import Counter"
   ]
  },
  {
   "cell_type": "code",
   "execution_count": 2,
   "id": "6f5bb021",
   "metadata": {},
   "outputs": [
    {
     "name": "stdout",
     "output_type": "stream",
     "text": [
      "Counter({'B': 3, 'A': 3, 'C': 2, 'E': 1, 'G': 1})\n"
     ]
    }
   ],
   "source": [
    "print(Counter(['B','B','A','C','A','E','G','A','B','C']))"
   ]
  },
  {
   "cell_type": "code",
   "execution_count": 3,
   "id": "bd115802",
   "metadata": {},
   "outputs": [
    {
     "name": "stdout",
     "output_type": "stream",
     "text": [
      "Counter({'B': 3, 'A': 3, 'C': 2, 'E': 1, 'G': 1})\n"
     ]
    }
   ],
   "source": [
    "#with dictionary\n",
    "print(Counter({'B': 3, 'A': 3, 'C': 2, 'E': 1, 'G': 1}))"
   ]
  },
  {
   "cell_type": "code",
   "execution_count": 4,
   "id": "75243bf2",
   "metadata": {},
   "outputs": [
    {
     "name": "stdout",
     "output_type": "stream",
     "text": [
      "Counter({'B': 5, 'A': 3, 'C': 2})\n"
     ]
    }
   ],
   "source": [
    "#with keyword arguments\n",
    "print(Counter(A=3,B=5,C=2))"
   ]
  },
  {
   "cell_type": "code",
   "execution_count": 5,
   "id": "87b18021",
   "metadata": {},
   "outputs": [
    {
     "name": "stdout",
     "output_type": "stream",
     "text": [
      "Counter({8: 4, 6: 4, 1: 3, 2: 3, 5: 2, 4: 2, 7: 2, 3: 2, 9: 1})\n"
     ]
    }
   ],
   "source": [
    "#updation in counters\n",
    "\n",
    "var1 = Counter()\n",
    "\n",
    "data = [1,2,8,6,8,9,5,6,4,7,6,2,3,1,4,7,8,5,1,2,3,6,8,]\n",
    "\n",
    "var1.update(data)\n",
    "print(var1)"
   ]
  },
  {
   "cell_type": "code",
   "execution_count": 6,
   "id": "fa3c8bb6",
   "metadata": {},
   "outputs": [
    {
     "name": "stdout",
     "output_type": "stream",
     "text": [
      "Counter({'a': 3, 'b': 2, 'd': 2, 'c': 1})\n"
     ]
    }
   ],
   "source": [
    "#subtract two counters\n",
    "\n",
    "var1 = Counter(a=5,b=6,c=6,d=3)\n",
    "var2 = Counter(a=2,b=4,c=5,d=1)\n",
    "\n",
    "var1.subtract(var2)\n",
    "print(var1)"
   ]
  },
  {
   "cell_type": "code",
   "execution_count": 7,
   "id": "260cf461",
   "metadata": {},
   "outputs": [
    {
     "name": "stdout",
     "output_type": "stream",
     "text": [
      "Counter({'s': 5, 'v': 3, 'g': 3, 'h': 3, 'd': 3, 'f': 3, 'j': 3, 'u': 2, 'c': 1})\n",
      "Keys=  dict_keys(['s', 'v', 'c', 'g', 'h', 'd', 'f', 'j', 'u'])\n",
      "values=  dict_values([5, 3, 1, 3, 3, 3, 3, 3, 2])\n",
      "items=  dict_items([('s', 5), ('v', 3), ('c', 1), ('g', 3), ('h', 3), ('d', 3), ('f', 3), ('j', 3), ('u', 2)])\n"
     ]
    }
   ],
   "source": [
    "#printing counter values\n",
    "\n",
    "var1 = Counter(\"svcghdsvfhjhjdsgfusugfvjds\")\n",
    "print(var1)\n",
    "\n",
    "print(\"Keys= \",var1.keys())\n",
    "print(\"values= \",var1.values())\n",
    "print(\"items= \",var1.items())"
   ]
  },
  {
   "cell_type": "code",
   "execution_count": 8,
   "id": "236dd018",
   "metadata": {},
   "outputs": [
    {
     "name": "stdout",
     "output_type": "stream",
     "text": [
      "Dict\n",
      "{'Name': 'Sahana', 'age': 12, 'class': 5, 'school': 'xyz'}\n",
      "keys = Name   values = Sahana\n",
      "keys = age   values = 12\n",
      "keys = class   values = 5\n",
      "keys = school   values = xyz\n"
     ]
    }
   ],
   "source": [
    "#ordered dictionary\n",
    "\n",
    "print(\"Dict\")\n",
    "\n",
    "var ={}\n",
    "\n",
    "var['Name'] = \"Sahana\"\n",
    "var['age'] = 12\n",
    "var['class'] = 5\n",
    "var['school'] = \"xyz\"\n",
    "\n",
    "print(var)\n",
    "\n",
    "for key,values in var.items():\n",
    "    print(\"keys =\",key,\" \",\"values =\",values)"
   ]
  },
  {
   "cell_type": "code",
   "execution_count": 13,
   "id": "fa51ee5a",
   "metadata": {},
   "outputs": [
    {
     "name": "stdout",
     "output_type": "stream",
     "text": [
      "Ordereddict\n",
      "OrderedDict([('StudentName', 'bhuvan'), ('StudentId', 4), ('course', 'python')])\n",
      "keys = Name   values = Sahana\n",
      "keys = age   values = 12\n",
      "keys = class   values = 5\n",
      "keys = school   values = xyz\n"
     ]
    }
   ],
   "source": [
    "from collections import OrderedDict\n",
    "\n",
    "print(\"Ordereddict\")\n",
    "var1 = OrderedDict()\n",
    "\n",
    "var1['StudentName'] = \"bhuvan\"\n",
    "\n",
    "var1['StudentId'] = 4\n",
    "var1['course'] = \"python\"\n",
    "    \n",
    "print(var1)\n",
    "    \n",
    "for key,values in var.items():\n",
    "    print(\"keys =\",key,\" \",\"values =\",values)\n"
   ]
  },
  {
   "cell_type": "code",
   "execution_count": 15,
   "id": "6f0d8027",
   "metadata": {},
   "outputs": [
    {
     "data": {
      "text/plain": [
       "'python'"
      ]
     },
     "execution_count": 15,
     "metadata": {},
     "output_type": "execute_result"
    }
   ],
   "source": [
    "#Ordereddict deleting\n",
    "\n",
    "var1.pop('course')"
   ]
  },
  {
   "cell_type": "code",
   "execution_count": 16,
   "id": "756b7fbf",
   "metadata": {},
   "outputs": [
    {
     "name": "stdout",
     "output_type": "stream",
     "text": [
      "OrderedDict([('StudentName', 'bhuvan'), ('StudentId', 4)])\n"
     ]
    }
   ],
   "source": [
    "#after delete\n",
    "\n",
    "print(var1)"
   ]
  },
  {
   "cell_type": "code",
   "execution_count": 18,
   "id": "b1d0612e",
   "metadata": {},
   "outputs": [],
   "source": [
    "#ordered dict inserting\n",
    "\n",
    "var1['course'] = \"Data Analyst\"\n"
   ]
  },
  {
   "cell_type": "code",
   "execution_count": 19,
   "id": "5572ceda",
   "metadata": {},
   "outputs": [
    {
     "name": "stdout",
     "output_type": "stream",
     "text": [
      "OrderedDict([('StudentName', 'bhuvan'), ('StudentId', 4), ('course', 'Data Analyst')])\n"
     ]
    }
   ],
   "source": [
    "print(var1)"
   ]
  },
  {
   "cell_type": "code",
   "execution_count": 23,
   "id": "e0718c72",
   "metadata": {},
   "outputs": [
    {
     "name": "stdout",
     "output_type": "stream",
     "text": [
      "defaultdict(<class 'int'>, {1: 2, 2: 2, 3: 1, 34: 1, 45: 1, 4: 1, 55: 1, 67: 1, 88: 2, 98: 1})\n"
     ]
    }
   ],
   "source": [
    "#initializing default dict objects\n",
    "\n",
    "from collections import defaultdict\n",
    "\n",
    "dd = defaultdict(int)\n",
    "\n",
    "lists = [1,2,3,34,45,2,1,4,55,67,88,98,88]\n",
    "\n",
    "for i in lists:\n",
    "    dd[i] +=1\n",
    "    \n",
    "print(dd)"
   ]
  },
  {
   "cell_type": "code",
   "execution_count": 24,
   "id": "be57e43a",
   "metadata": {},
   "outputs": [
    {
     "name": "stdout",
     "output_type": "stream",
     "text": [
      "defaultdict(<class 'list'>, {1: [1], 2: [2], 3: [3], 4: [4], 5: [5], 6: [6], 7: [7], 8: [8], 9: [9], 10: [10]})\n"
     ]
    }
   ],
   "source": [
    "dd1 = defaultdict(list)\n",
    "\n",
    "for i in range(1,11):\n",
    "    dd1[i].append(i)\n",
    "    \n",
    "print(dd1)"
   ]
  },
  {
   "cell_type": "code",
   "execution_count": 25,
   "id": "66c74921",
   "metadata": {},
   "outputs": [
    {
     "name": "stdout",
     "output_type": "stream",
     "text": [
      "ChainMap({'a': 1, 'b': 3, 'c': 6}, {'a': 5, 'd': 3, 'e': 7}, {'e': 5, 'f': 7, 'g': 10})\n"
     ]
    }
   ],
   "source": [
    "#chainmap\n",
    "\n",
    "from collections import ChainMap\n",
    "\n",
    "var1 = {\"a\":1,\"b\":3,\"c\":6}\n",
    "var2 = {\"a\":5,\"d\":3,\"e\":7}\n",
    "var3 = {\"e\":5,\"f\":7,\"g\":10}\n",
    "\n",
    "var4 = ChainMap(var1,var2,var3)\n",
    "\n",
    "print(var4)"
   ]
  },
  {
   "cell_type": "code",
   "execution_count": 26,
   "id": "2738b242",
   "metadata": {},
   "outputs": [
    {
     "name": "stdout",
     "output_type": "stream",
     "text": [
      "7\n"
     ]
    }
   ],
   "source": [
    "print(var4['e'])"
   ]
  },
  {
   "cell_type": "code",
   "execution_count": 27,
   "id": "9fc5e529",
   "metadata": {},
   "outputs": [
    {
     "name": "stdout",
     "output_type": "stream",
     "text": [
      "KeysView(ChainMap({'a': 1, 'b': 3, 'c': 6}, {'a': 5, 'd': 3, 'e': 7}, {'e': 5, 'f': 7, 'g': 10}))\n"
     ]
    }
   ],
   "source": [
    "print(var4.keys())"
   ]
  },
  {
   "cell_type": "code",
   "execution_count": 29,
   "id": "085d02f3",
   "metadata": {},
   "outputs": [
    {
     "name": "stdout",
     "output_type": "stream",
     "text": [
      "ValuesView(ChainMap({'a': 1, 'b': 3, 'c': 6}, {'a': 5, 'd': 3, 'e': 7}, {'e': 5, 'f': 7, 'g': 10}))\n"
     ]
    }
   ],
   "source": [
    "print(var4.values())"
   ]
  },
  {
   "cell_type": "code",
   "execution_count": 30,
   "id": "73fbb228",
   "metadata": {},
   "outputs": [
    {
     "name": "stdout",
     "output_type": "stream",
     "text": [
      "all the ChainMap contents are : \n",
      "ChainMap({'a': 1, 'b': 3, 'c': 6}, {'a': 5, 'd': 3, 'e': 7})\n",
      "Displaying chaimap\n",
      "ChainMap({'e': 5, 'f': 7, 'g': 10}, {'a': 1, 'b': 3, 'c': 6}, {'a': 5, 'd': 3, 'e': 7})\n"
     ]
    }
   ],
   "source": [
    "from collections import ChainMap\n",
    "\n",
    "p1 = {\"a\":1,\"b\":3,\"c\":6}\n",
    "p2 = {\"a\":5,\"d\":3,\"e\":7}\n",
    "c1 = {\"e\":5,\"f\":7,\"g\":10}\n",
    "\n",
    "main = ChainMap(p1,p2)\n",
    "\n",
    "#printing ChainMap\n",
    "print(\"all the ChainMap contents are : \")\n",
    "print(main)\n",
    "\n",
    "#using new_child()\n",
    "\n",
    "main1 = main.new_child(c1)\n",
    "\n",
    "print(\"Displaying chaimap\")\n",
    "print(main1)"
   ]
  },
  {
   "cell_type": "code",
   "execution_count": 40,
   "id": "b00290e6",
   "metadata": {},
   "outputs": [
    {
     "name": "stdout",
     "output_type": "stream",
     "text": [
      "Before using _make() student(name='Nandini', age='19', DOB='24-06-2002')\n",
      "----------------------------------------\n",
      "The nametuple instance using iterable is :\n",
      "student(name='Manjeet', age='20', DOB='243244')\n"
     ]
    }
   ],
   "source": [
    "#nametuple\n",
    "\n",
    "from collections import namedtuple\n",
    "student = namedtuple('student',['name','age','DOB'])\n",
    "S = student('Nandini','19','24-06-2002')\n",
    "print(\"Before using _make()\",S)\n",
    "print(\"----------------------------------------\")\n",
    "li = ['Manjeet', '20', '243244']\n",
    "print(\"The nametuple instance using iterable is :\")\n",
    "print(student._make(li))"
   ]
  },
  {
   "cell_type": "code",
   "execution_count": 41,
   "id": "fc755735",
   "metadata": {},
   "outputs": [
    {
     "name": "stdout",
     "output_type": "stream",
     "text": [
      "the ordereddict instance using namedtuple is :\n",
      "{'name': 'Nandini', 'age': '19', 'DOB': '24-06-2002'}\n"
     ]
    }
   ],
   "source": [
    "li = ['Manjeet', '20', '243244']\n",
    "\n",
    "di = {'name' : \"NIKHIL\", 'age': 22,'DOB':'24-06-2002'}\n",
    "\n",
    "print(\"the ordereddict instance using namedtuple is :\")\n",
    "print(S._asdict())"
   ]
  },
  {
   "cell_type": "code",
   "execution_count": 42,
   "id": "ac883212",
   "metadata": {},
   "outputs": [
    {
     "name": "stdout",
     "output_type": "stream",
     "text": [
      "deque([1, 2, 3, 4])\n"
     ]
    }
   ],
   "source": [
    "from collections import deque\n",
    "\n",
    "de = deque([1,2,3])\n",
    "de.append(4)\n",
    "print(de)"
   ]
  },
  {
   "cell_type": "code",
   "execution_count": 43,
   "id": "99b818cf",
   "metadata": {},
   "outputs": [
    {
     "name": "stdout",
     "output_type": "stream",
     "text": [
      "deque([5, 1, 2, 3, 4])\n"
     ]
    }
   ],
   "source": [
    "de.appendleft(5)\n",
    "print(de)"
   ]
  },
  {
   "cell_type": "code",
   "execution_count": 44,
   "id": "40245a25",
   "metadata": {},
   "outputs": [
    {
     "data": {
      "text/plain": [
       "4"
      ]
     },
     "execution_count": 44,
     "metadata": {},
     "output_type": "execute_result"
    }
   ],
   "source": [
    "de.pop()"
   ]
  },
  {
   "cell_type": "code",
   "execution_count": 46,
   "id": "7d700c18",
   "metadata": {
    "collapsed": true
   },
   "outputs": [
    {
     "name": "stdout",
     "output_type": "stream",
     "text": [
      "deque([2, 3])\n"
     ]
    }
   ],
   "source": [
    "de.popleft()\n",
    "print(de)"
   ]
  },
  {
   "cell_type": "code",
   "execution_count": null,
   "id": "14eec278",
   "metadata": {},
   "outputs": [],
   "source": []
  }
 ],
 "metadata": {
  "kernelspec": {
   "display_name": "Python 3 (ipykernel)",
   "language": "python",
   "name": "python3"
  },
  "language_info": {
   "codemirror_mode": {
    "name": "ipython",
    "version": 3
   },
   "file_extension": ".py",
   "mimetype": "text/x-python",
   "name": "python",
   "nbconvert_exporter": "python",
   "pygments_lexer": "ipython3",
   "version": "3.11.5"
  }
 },
 "nbformat": 4,
 "nbformat_minor": 5
}
