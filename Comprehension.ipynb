{
 "cells": [
  {
   "cell_type": "code",
   "execution_count": 1,
   "id": "5f497b47",
   "metadata": {},
   "outputs": [
    {
     "name": "stdout",
     "output_type": "stream",
     "text": [
      "[0, 1, 2, 3, 4, 5, 6, 7, 8, 9]\n"
     ]
    }
   ],
   "source": [
    "li = []\n",
    "for x in range(10):\n",
    "    li.append(x)\n",
    "print(li)"
   ]
  },
  {
   "cell_type": "code",
   "execution_count": 2,
   "id": "1ff89061",
   "metadata": {},
   "outputs": [],
   "source": [
    "li = [x for x in range(10)]"
   ]
  },
  {
   "cell_type": "code",
   "execution_count": 3,
   "id": "1c9e6ca0",
   "metadata": {},
   "outputs": [
    {
     "name": "stdout",
     "output_type": "stream",
     "text": [
      "[0, 1, 2, 3, 4, 5, 6, 7, 8, 9]\n"
     ]
    }
   ],
   "source": [
    "print(li)"
   ]
  },
  {
   "cell_type": "code",
   "execution_count": 4,
   "id": "c8343280",
   "metadata": {},
   "outputs": [
    {
     "name": "stdout",
     "output_type": "stream",
     "text": [
      "[0, 1, 4, 9, 16, 25, 36, 49, 64, 81]\n"
     ]
    }
   ],
   "source": [
    "li = []\n",
    "for x in range(10):\n",
    "    li.append(x ** 2)\n",
    "print(li)"
   ]
  },
  {
   "cell_type": "code",
   "execution_count": 5,
   "id": "671218ac",
   "metadata": {},
   "outputs": [
    {
     "name": "stdout",
     "output_type": "stream",
     "text": [
      "[0, 1, 4, 9, 16, 25, 36, 49, 64, 81]\n"
     ]
    }
   ],
   "source": [
    "li = [x ** 2 for x in range(10)]\n",
    "print(li)"
   ]
  },
  {
   "cell_type": "code",
   "execution_count": 6,
   "id": "3f0b0e03",
   "metadata": {},
   "outputs": [
    {
     "name": "stdout",
     "output_type": "stream",
     "text": [
      "[1, 4, 27, 256, 3125, 46656, 823543, 16777216, 387420489]\n"
     ]
    }
   ],
   "source": [
    "li = []\n",
    "for x in range(1,10):\n",
    "    li.append(x ** x)\n",
    "print(li)\n"
   ]
  },
  {
   "cell_type": "code",
   "execution_count": 8,
   "id": "b61961e5",
   "metadata": {},
   "outputs": [
    {
     "name": "stdout",
     "output_type": "stream",
     "text": [
      "[1, 1, 4, 27, 256, 3125, 46656, 823543, 16777216, 387420489]\n"
     ]
    }
   ],
   "source": [
    "li = [x ** x for x in range(10)]\n",
    "print(li)"
   ]
  },
  {
   "cell_type": "code",
   "execution_count": 9,
   "id": "527ae3f3",
   "metadata": {},
   "outputs": [
    {
     "name": "stdout",
     "output_type": "stream",
     "text": [
      "[11, 12, 13, 14, 15, 16, 17, 18, 19]\n"
     ]
    }
   ],
   "source": [
    "li = []\n",
    "for x in range(1,10):\n",
    "    li.append(x+10)\n",
    "print(li)\n"
   ]
  },
  {
   "cell_type": "code",
   "execution_count": 10,
   "id": "83ca2fa4",
   "metadata": {},
   "outputs": [
    {
     "name": "stdout",
     "output_type": "stream",
     "text": [
      "[10, 11, 12, 13, 14, 15, 16, 17, 18, 19]\n"
     ]
    }
   ],
   "source": [
    "li = [x +10 for x in range(10)]\n",
    "print(li)"
   ]
  },
  {
   "cell_type": "code",
   "execution_count": 11,
   "id": "2491d021",
   "metadata": {},
   "outputs": [
    {
     "name": "stdout",
     "output_type": "stream",
     "text": [
      "--using LIST COMPREHENSION-------- ['P', 'Y', 'T', 'H', 'O', 'N']\n"
     ]
    }
   ],
   "source": [
    "h_letters = [letter for letter in 'PYTHON']\n",
    "print(\"--using LIST COMPREHENSION--------\",h_letters)"
   ]
  },
  {
   "cell_type": "code",
   "execution_count": 12,
   "id": "2ad612e4",
   "metadata": {},
   "outputs": [
    {
     "name": "stdout",
     "output_type": "stream",
     "text": [
      "p\n",
      "y\n",
      "t\n",
      "h\n",
      "o\n",
      "n\n"
     ]
    }
   ],
   "source": [
    "for i in 'python':\n",
    "    print(i)"
   ]
  },
  {
   "cell_type": "code",
   "execution_count": 13,
   "id": "e6d12a00",
   "metadata": {},
   "outputs": [
    {
     "name": "stdout",
     "output_type": "stream",
     "text": [
      "Normal for loop: {1: 1, 2: 4, 3: 9, 4: 16, 5: 25}\n"
     ]
    }
   ],
   "source": [
    "vals = [1,2,3,4,5]\n",
    "\n",
    "#for loop\n",
    "di = {}\n",
    "for each in vals:\n",
    "    di[each] = each*each\n",
    "print(\"Normal for loop:\",di)"
   ]
  },
  {
   "cell_type": "code",
   "execution_count": 14,
   "id": "355dc644",
   "metadata": {},
   "outputs": [
    {
     "name": "stdout",
     "output_type": "stream",
     "text": [
      "list comprehension  {1: 1, 2: 4, 3: 9, 4: 16, 5: 25}\n"
     ]
    }
   ],
   "source": [
    "di = {each : each*each for each in vals}\n",
    "\n",
    "print(\"list comprehension \",di)"
   ]
  },
  {
   "cell_type": "code",
   "execution_count": 15,
   "id": "3cd3b29a",
   "metadata": {},
   "outputs": [
    {
     "name": "stdout",
     "output_type": "stream",
     "text": [
      "using normal for loop : {1, 4, 36, 9, 16, 25}\n"
     ]
    }
   ],
   "source": [
    "#set\n",
    "\n",
    "set1 = set({})\n",
    "for each in range(1,7):\n",
    "    set1.add(each*each)\n",
    "    \n",
    "print( \"using normal for loop :\",set1)"
   ]
  },
  {
   "cell_type": "code",
   "execution_count": 20,
   "id": "84a0c452",
   "metadata": {},
   "outputs": [
    {
     "name": "stdout",
     "output_type": "stream",
     "text": [
      "using comprehension: {16, 1, 4, 36, 9, 25}\n"
     ]
    }
   ],
   "source": [
    "set1 = set({each*each for each in range(1,7)})\n",
    "print(\"using comprehension:\",set1)"
   ]
  },
  {
   "cell_type": "code",
   "execution_count": 22,
   "id": "0a2aab3b",
   "metadata": {},
   "outputs": [
    {
     "name": "stdout",
     "output_type": "stream",
     "text": [
      "ITERATOR object :  <list_iterator object at 0x0000014E51910DC0>\n",
      "consecutive elements\n",
      "4\n"
     ]
    }
   ],
   "source": [
    "my_list = [4,7,0,3]\n",
    "my_iter = my_list.__iter__()\n",
    "print(\"ITERATOR object : \",my_iter)\n",
    "print(\"consecutive elements\")\n",
    "print(my_iter.__next__())"
   ]
  },
  {
   "cell_type": "code",
   "execution_count": 23,
   "id": "428c680a",
   "metadata": {},
   "outputs": [
    {
     "name": "stdout",
     "output_type": "stream",
     "text": [
      "7\n"
     ]
    }
   ],
   "source": [
    "print(my_iter.__next__())"
   ]
  },
  {
   "cell_type": "code",
   "execution_count": 24,
   "id": "f23a755f",
   "metadata": {},
   "outputs": [
    {
     "name": "stdout",
     "output_type": "stream",
     "text": [
      "0\n"
     ]
    }
   ],
   "source": [
    "print(my_iter.__next__())"
   ]
  },
  {
   "cell_type": "code",
   "execution_count": 26,
   "id": "968d0bc3",
   "metadata": {},
   "outputs": [
    {
     "name": "stdout",
     "output_type": "stream",
     "text": [
      "4\n",
      "7\n",
      "0\n",
      "3\n",
      "StopIteration: Stopping iterations\n"
     ]
    }
   ],
   "source": [
    "my_list = [4,7,0,3]\n",
    "my_iter = my_list.__iter__()\n",
    "\n",
    "try:\n",
    "    print(my_iter.__next__())\n",
    "    print(my_iter.__next__())\n",
    "    print(my_iter.__next__())\n",
    "    print(my_iter.__next__())\n",
    "    print(my_iter.__next__())\n",
    "except StopIteration as si:\n",
    "    print(\"StopIteration: Stopping iterations\")\n",
    "    "
   ]
  },
  {
   "cell_type": "code",
   "execution_count": 31,
   "id": "f902e726",
   "metadata": {},
   "outputs": [],
   "source": [
    "class PowTwo:\n",
    "    def __init__(self,max=0):\n",
    "        self.max = max\n",
    "        \n",
    "    def __iter__(self):\n",
    "        self.n = 0\n",
    "        return self\n",
    "    \n",
    "    def __next__(self):\n",
    "        if self.n <= self.max:\n",
    "            result = 2 ** self.n\n",
    "            self.n += 1\n",
    "            return result\n",
    "        else:\n",
    "            print(\"Stopping iteration\")"
   ]
  },
  {
   "cell_type": "code",
   "execution_count": 34,
   "id": "16a589f6",
   "metadata": {},
   "outputs": [
    {
     "name": "stdout",
     "output_type": "stream",
     "text": [
      "1\n",
      "2\n",
      "4\n",
      "8\n",
      "16\n",
      "32\n",
      "64\n",
      "128\n"
     ]
    }
   ],
   "source": [
    "myObj = PowTwo(7)\n",
    "myIter = iter(myObj)\n",
    "print(next(myIter))\n",
    "print(next(myIter))\n",
    "print(next(myIter))\n",
    "print(next(myIter))\n",
    "print(next(myIter))\n",
    "print(next(myIter))\n",
    "print(next(myIter))\n",
    "print(next(myIter))\n"
   ]
  },
  {
   "cell_type": "code",
   "execution_count": null,
   "id": "80ee5f94",
   "metadata": {},
   "outputs": [],
   "source": []
  }
 ],
 "metadata": {
  "kernelspec": {
   "display_name": "Python 3 (ipykernel)",
   "language": "python",
   "name": "python3"
  },
  "language_info": {
   "codemirror_mode": {
    "name": "ipython",
    "version": 3
   },
   "file_extension": ".py",
   "mimetype": "text/x-python",
   "name": "python",
   "nbconvert_exporter": "python",
   "pygments_lexer": "ipython3",
   "version": "3.11.5"
  }
 },
 "nbformat": 4,
 "nbformat_minor": 5
}
